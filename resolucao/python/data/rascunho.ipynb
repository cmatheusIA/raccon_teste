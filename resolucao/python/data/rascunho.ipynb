{
 "cells": [
  {
   "cell_type": "code",
   "execution_count": 1,
   "metadata": {},
   "outputs": [],
   "source": [
    "import pandas as pd\n",
    "import numpy as np\n",
    "import matplotlib.pyplot as plt"
   ]
  },
  {
   "cell_type": "code",
   "execution_count": 2,
   "metadata": {},
   "outputs": [],
   "source": [
    "import seaborn as sns\n",
    "\n",
    "from datetime import date\n",
    "\n",
    "import warnings\n",
    "warnings.filterwarnings('ignore')"
   ]
  },
  {
   "cell_type": "code",
   "execution_count": 3,
   "metadata": {},
   "outputs": [],
   "source": [
    "data = pd.read_csv(\"psel - data.csv\")"
   ]
  },
  {
   "cell_type": "code",
   "execution_count": 4,
   "metadata": {},
   "outputs": [],
   "source": [
    "data_backup = data.copy()"
   ]
  },
  {
   "cell_type": "code",
   "execution_count": 5,
   "metadata": {},
   "outputs": [
    {
     "data": {
      "text/html": [
       "<div>\n",
       "<style scoped>\n",
       "    .dataframe tbody tr th:only-of-type {\n",
       "        vertical-align: middle;\n",
       "    }\n",
       "\n",
       "    .dataframe tbody tr th {\n",
       "        vertical-align: top;\n",
       "    }\n",
       "\n",
       "    .dataframe thead th {\n",
       "        text-align: right;\n",
       "    }\n",
       "</style>\n",
       "<table border=\"1\" class=\"dataframe\">\n",
       "  <thead>\n",
       "    <tr style=\"text-align: right;\">\n",
       "      <th></th>\n",
       "      <th>data</th>\n",
       "      <th>receita</th>\n",
       "      <th>transacoes_blog</th>\n",
       "      <th>transacoes_site</th>\n",
       "      <th>usuarios_blog</th>\n",
       "      <th>usuarios_site</th>\n",
       "    </tr>\n",
       "  </thead>\n",
       "  <tbody>\n",
       "    <tr>\n",
       "      <th>0</th>\n",
       "      <td>2019-01-01</td>\n",
       "      <td>349184</td>\n",
       "      <td>0</td>\n",
       "      <td>4693</td>\n",
       "      <td>0</td>\n",
       "      <td>46739</td>\n",
       "    </tr>\n",
       "    <tr>\n",
       "      <th>1</th>\n",
       "      <td>2019-01-02</td>\n",
       "      <td>867328</td>\n",
       "      <td>0</td>\n",
       "      <td>8501</td>\n",
       "      <td>0</td>\n",
       "      <td>83129</td>\n",
       "    </tr>\n",
       "    <tr>\n",
       "      <th>2</th>\n",
       "      <td>2019-01-03</td>\n",
       "      <td>758590</td>\n",
       "      <td>0</td>\n",
       "      <td>9375</td>\n",
       "      <td>0</td>\n",
       "      <td>86067</td>\n",
       "    </tr>\n",
       "    <tr>\n",
       "      <th>3</th>\n",
       "      <td>2019-01-04</td>\n",
       "      <td>688873</td>\n",
       "      <td>0</td>\n",
       "      <td>8405</td>\n",
       "      <td>0</td>\n",
       "      <td>69363</td>\n",
       "    </tr>\n",
       "    <tr>\n",
       "      <th>4</th>\n",
       "      <td>2019-01-05</td>\n",
       "      <td>441760</td>\n",
       "      <td>0</td>\n",
       "      <td>6136</td>\n",
       "      <td>0</td>\n",
       "      <td>56183</td>\n",
       "    </tr>\n",
       "  </tbody>\n",
       "</table>\n",
       "</div>"
      ],
      "text/plain": [
       "         data  receita  transacoes_blog  transacoes_site  usuarios_blog  \\\n",
       "0  2019-01-01   349184                0             4693              0   \n",
       "1  2019-01-02   867328                0             8501              0   \n",
       "2  2019-01-03   758590                0             9375              0   \n",
       "3  2019-01-04   688873                0             8405              0   \n",
       "4  2019-01-05   441760                0             6136              0   \n",
       "\n",
       "   usuarios_site  \n",
       "0          46739  \n",
       "1          83129  \n",
       "2          86067  \n",
       "3          69363  \n",
       "4          56183  "
      ]
     },
     "execution_count": 5,
     "metadata": {},
     "output_type": "execute_result"
    }
   ],
   "source": [
    "data.head()"
   ]
  },
  {
   "cell_type": "code",
   "execution_count": 6,
   "metadata": {},
   "outputs": [
    {
     "data": {
      "text/html": [
       "<div>\n",
       "<style scoped>\n",
       "    .dataframe tbody tr th:only-of-type {\n",
       "        vertical-align: middle;\n",
       "    }\n",
       "\n",
       "    .dataframe tbody tr th {\n",
       "        vertical-align: top;\n",
       "    }\n",
       "\n",
       "    .dataframe thead th {\n",
       "        text-align: right;\n",
       "    }\n",
       "</style>\n",
       "<table border=\"1\" class=\"dataframe\">\n",
       "  <thead>\n",
       "    <tr style=\"text-align: right;\">\n",
       "      <th></th>\n",
       "      <th>data</th>\n",
       "      <th>receita</th>\n",
       "      <th>transacoes_blog</th>\n",
       "      <th>transacoes_site</th>\n",
       "      <th>usuarios_blog</th>\n",
       "      <th>usuarios_site</th>\n",
       "    </tr>\n",
       "  </thead>\n",
       "  <tbody>\n",
       "    <tr>\n",
       "      <th>634</th>\n",
       "      <td>2020-09-26</td>\n",
       "      <td>2509687</td>\n",
       "      <td>1580</td>\n",
       "      <td>15320</td>\n",
       "      <td>9292</td>\n",
       "      <td>96178</td>\n",
       "    </tr>\n",
       "    <tr>\n",
       "      <th>635</th>\n",
       "      <td>2020-09-27</td>\n",
       "      <td>2182679</td>\n",
       "      <td>1838</td>\n",
       "      <td>14135</td>\n",
       "      <td>10052</td>\n",
       "      <td>103494</td>\n",
       "    </tr>\n",
       "    <tr>\n",
       "      <th>636</th>\n",
       "      <td>2020-09-28</td>\n",
       "      <td>3496475</td>\n",
       "      <td>2684</td>\n",
       "      <td>21724</td>\n",
       "      <td>11224</td>\n",
       "      <td>127524</td>\n",
       "    </tr>\n",
       "    <tr>\n",
       "      <th>637</th>\n",
       "      <td>2020-09-29</td>\n",
       "      <td>4519732</td>\n",
       "      <td>3037</td>\n",
       "      <td>28017</td>\n",
       "      <td>11570</td>\n",
       "      <td>150116</td>\n",
       "    </tr>\n",
       "    <tr>\n",
       "      <th>638</th>\n",
       "      <td>2020-09-30</td>\n",
       "      <td>6240174</td>\n",
       "      <td>3848</td>\n",
       "      <td>38535</td>\n",
       "      <td>9685</td>\n",
       "      <td>150780</td>\n",
       "    </tr>\n",
       "  </tbody>\n",
       "</table>\n",
       "</div>"
      ],
      "text/plain": [
       "           data  receita  transacoes_blog  transacoes_site  usuarios_blog  \\\n",
       "634  2020-09-26  2509687             1580            15320           9292   \n",
       "635  2020-09-27  2182679             1838            14135          10052   \n",
       "636  2020-09-28  3496475             2684            21724          11224   \n",
       "637  2020-09-29  4519732             3037            28017          11570   \n",
       "638  2020-09-30  6240174             3848            38535           9685   \n",
       "\n",
       "     usuarios_site  \n",
       "634          96178  \n",
       "635         103494  \n",
       "636         127524  \n",
       "637         150116  \n",
       "638         150780  "
      ]
     },
     "execution_count": 6,
     "metadata": {},
     "output_type": "execute_result"
    }
   ],
   "source": [
    "data.tail()"
   ]
  },
  {
   "cell_type": "code",
   "execution_count": 7,
   "metadata": {},
   "outputs": [
    {
     "data": {
      "text/html": [
       "<div>\n",
       "<style scoped>\n",
       "    .dataframe tbody tr th:only-of-type {\n",
       "        vertical-align: middle;\n",
       "    }\n",
       "\n",
       "    .dataframe tbody tr th {\n",
       "        vertical-align: top;\n",
       "    }\n",
       "\n",
       "    .dataframe thead th {\n",
       "        text-align: right;\n",
       "    }\n",
       "</style>\n",
       "<table border=\"1\" class=\"dataframe\">\n",
       "  <thead>\n",
       "    <tr style=\"text-align: right;\">\n",
       "      <th></th>\n",
       "      <th>receita</th>\n",
       "      <th>transacoes_blog</th>\n",
       "      <th>transacoes_site</th>\n",
       "      <th>usuarios_blog</th>\n",
       "      <th>usuarios_site</th>\n",
       "    </tr>\n",
       "  </thead>\n",
       "  <tbody>\n",
       "    <tr>\n",
       "      <th>count</th>\n",
       "      <td>6.390000e+02</td>\n",
       "      <td>639.000000</td>\n",
       "      <td>639.000000</td>\n",
       "      <td>639.000000</td>\n",
       "      <td>639.000000</td>\n",
       "    </tr>\n",
       "    <tr>\n",
       "      <th>mean</th>\n",
       "      <td>1.623891e+06</td>\n",
       "      <td>528.350548</td>\n",
       "      <td>19039.140845</td>\n",
       "      <td>1439.848200</td>\n",
       "      <td>101610.485133</td>\n",
       "    </tr>\n",
       "    <tr>\n",
       "      <th>std</th>\n",
       "      <td>1.160581e+06</td>\n",
       "      <td>1201.781347</td>\n",
       "      <td>13677.729723</td>\n",
       "      <td>3369.872063</td>\n",
       "      <td>37240.234152</td>\n",
       "    </tr>\n",
       "    <tr>\n",
       "      <th>min</th>\n",
       "      <td>3.208500e+04</td>\n",
       "      <td>0.000000</td>\n",
       "      <td>3557.000000</td>\n",
       "      <td>0.000000</td>\n",
       "      <td>26298.000000</td>\n",
       "    </tr>\n",
       "    <tr>\n",
       "      <th>25%</th>\n",
       "      <td>8.073420e+05</td>\n",
       "      <td>0.000000</td>\n",
       "      <td>11013.000000</td>\n",
       "      <td>0.000000</td>\n",
       "      <td>77727.000000</td>\n",
       "    </tr>\n",
       "    <tr>\n",
       "      <th>50%</th>\n",
       "      <td>1.263161e+06</td>\n",
       "      <td>0.000000</td>\n",
       "      <td>16069.000000</td>\n",
       "      <td>0.000000</td>\n",
       "      <td>96104.000000</td>\n",
       "    </tr>\n",
       "    <tr>\n",
       "      <th>75%</th>\n",
       "      <td>2.232770e+06</td>\n",
       "      <td>0.000000</td>\n",
       "      <td>22606.500000</td>\n",
       "      <td>0.000000</td>\n",
       "      <td>117586.500000</td>\n",
       "    </tr>\n",
       "    <tr>\n",
       "      <th>max</th>\n",
       "      <td>1.226684e+07</td>\n",
       "      <td>5586.000000</td>\n",
       "      <td>188955.000000</td>\n",
       "      <td>13059.000000</td>\n",
       "      <td>369989.000000</td>\n",
       "    </tr>\n",
       "  </tbody>\n",
       "</table>\n",
       "</div>"
      ],
      "text/plain": [
       "            receita  transacoes_blog  transacoes_site  usuarios_blog  \\\n",
       "count  6.390000e+02       639.000000       639.000000     639.000000   \n",
       "mean   1.623891e+06       528.350548     19039.140845    1439.848200   \n",
       "std    1.160581e+06      1201.781347     13677.729723    3369.872063   \n",
       "min    3.208500e+04         0.000000      3557.000000       0.000000   \n",
       "25%    8.073420e+05         0.000000     11013.000000       0.000000   \n",
       "50%    1.263161e+06         0.000000     16069.000000       0.000000   \n",
       "75%    2.232770e+06         0.000000     22606.500000       0.000000   \n",
       "max    1.226684e+07      5586.000000    188955.000000   13059.000000   \n",
       "\n",
       "       usuarios_site  \n",
       "count     639.000000  \n",
       "mean   101610.485133  \n",
       "std     37240.234152  \n",
       "min     26298.000000  \n",
       "25%     77727.000000  \n",
       "50%     96104.000000  \n",
       "75%    117586.500000  \n",
       "max    369989.000000  "
      ]
     },
     "execution_count": 7,
     "metadata": {},
     "output_type": "execute_result"
    }
   ],
   "source": [
    "data.describe()"
   ]
  },
  {
   "cell_type": "code",
   "execution_count": 47,
   "metadata": {},
   "outputs": [],
   "source": [
    "data.data = pd.to_datetime(data.data)"
   ]
  },
  {
   "cell_type": "code",
   "execution_count": 8,
   "metadata": {},
   "outputs": [
    {
     "data": {
      "text/plain": [
       "data               2019-01-01\n",
       "receita                 32085\n",
       "transacoes_blog             0\n",
       "transacoes_site          3557\n",
       "usuarios_blog               0\n",
       "usuarios_site           26298\n",
       "dtype: object"
      ]
     },
     "execution_count": 8,
     "metadata": {},
     "output_type": "execute_result"
    }
   ],
   "source": [
    "data.min()"
   ]
  },
  {
   "cell_type": "code",
   "execution_count": 9,
   "metadata": {},
   "outputs": [
    {
     "name": "stdout",
     "output_type": "stream",
     "text": [
      "<class 'pandas.core.frame.DataFrame'>\n",
      "RangeIndex: 639 entries, 0 to 638\n",
      "Data columns (total 6 columns):\n",
      " #   Column           Non-Null Count  Dtype \n",
      "---  ------           --------------  ----- \n",
      " 0   data             639 non-null    object\n",
      " 1   receita          639 non-null    int64 \n",
      " 2   transacoes_blog  639 non-null    int64 \n",
      " 3   transacoes_site  639 non-null    int64 \n",
      " 4   usuarios_blog    639 non-null    int64 \n",
      " 5   usuarios_site    639 non-null    int64 \n",
      "dtypes: int64(5), object(1)\n",
      "memory usage: 30.1+ KB\n"
     ]
    }
   ],
   "source": [
    "data.info()"
   ]
  },
  {
   "cell_type": "code",
   "execution_count": 10,
   "metadata": {},
   "outputs": [
    {
     "data": {
      "image/png": "[encoded data removed]",
      "text/plain": [
       "<Figure size 1440x576 with 1 Axes>"
      ]
     },
     "metadata": {
      "needs_background": "light"
     },
     "output_type": "display_data"
    }
   ],
   "source": [
    "plt.figure(figsize=(20,8))\n",
    "fig = sns.lineplot(x='data', y='receita', data=data)\n",
    "fig.set_title(\"Receita em função  do tempo\", loc='left',fontsize=24)\n",
    "fig.set_xlabel(\"DATA\",fontsize=21)\n",
    "fig.set_ylabel(\"RECEITA\",fontsize=21);"
   ]
  },
  {
   "cell_type": "markdown",
   "metadata": {},
   "source": [
    "## Definindo funções"
   ]
  },
  {
   "cell_type": "markdown",
   "metadata": {},
   "source": [
    "### funções para plot"
   ]
  },
  {
   "cell_type": "code",
   "execution_count": 11,
   "metadata": {},
   "outputs": [],
   "source": [
    "def plot_line(x,y,titulo,xlabel,ylabel,data,hue=None):\n",
    "    ax = sns.lineplot(x=x, y=y, hue=hue, data=data)\n",
    "    ax.figure.set_size_inches(12,6)\n",
    "    ax.set_title(titulo, loc='left',fontsize=20)\n",
    "    ax.set_xlabel(xlabel,fontsize=18)\n",
    "    ax.set_ylabel(ylabel,fontsize=18, rotation=90);"
   ]
  },
  {
   "cell_type": "code",
   "execution_count": 12,
   "metadata": {},
   "outputs": [],
   "source": [
    "def plot_bar(x,y,titulo,xlabel,ylabel,data):\n",
    "    plt.figure(figsize=(21,10))\n",
    "    ax = plt.bar(data[x],data[y])\n",
    "    plt.title(titulo, loc='left',fontsize=20)\n",
    "    plt.xlabel(xlabel ,fontsize=18)\n",
    "    plt.ylabel(ylabel,fontsize=24,rotation=90)"
   ]
  },
  {
   "cell_type": "code",
   "execution_count": null,
   "metadata": {},
   "outputs": [],
   "source": []
  },
  {
   "cell_type": "code",
   "execution_count": 13,
   "metadata": {},
   "outputs": [],
   "source": [
    "data['receita_aceleracao'] = data['receita'].diff()"
   ]
  },
  {
   "cell_type": "code",
   "execution_count": 14,
   "metadata": {},
   "outputs": [],
   "source": [
    "data['transacoes_blog_aceleracao'] = data['transacoes_blog'].diff()\n",
    "data['transacoes_site_aceleracao'] = data['transacoes_site'].diff()\n",
    "data['usuarios_blog_aceleracao'] = data['usuarios_blog'].diff()\n",
    "data['usuarios_site_aceleracao'] = data['usuarios_site'].diff()"
   ]
  },
  {
   "cell_type": "code",
   "execution_count": 15,
   "metadata": {},
   "outputs": [
    {
     "data": {
      "text/html": [
       "<div>\n",
       "<style scoped>\n",
       "    .dataframe tbody tr th:only-of-type {\n",
       "        vertical-align: middle;\n",
       "    }\n",
       "\n",
       "    .dataframe tbody tr th {\n",
       "        vertical-align: top;\n",
       "    }\n",
       "\n",
       "    .dataframe thead th {\n",
       "        text-align: right;\n",
       "    }\n",
       "</style>\n",
       "<table border=\"1\" class=\"dataframe\">\n",
       "  <thead>\n",
       "    <tr style=\"text-align: right;\">\n",
       "      <th></th>\n",
       "      <th>data</th>\n",
       "      <th>receita</th>\n",
       "      <th>transacoes_blog</th>\n",
       "      <th>transacoes_site</th>\n",
       "      <th>usuarios_blog</th>\n",
       "      <th>usuarios_site</th>\n",
       "      <th>receita_aceleracao</th>\n",
       "      <th>transacoes_blog_aceleracao</th>\n",
       "      <th>transacoes_site_aceleracao</th>\n",
       "      <th>usuarios_blog_aceleracao</th>\n",
       "      <th>usuarios_site_aceleracao</th>\n",
       "    </tr>\n",
       "  </thead>\n",
       "  <tbody>\n",
       "    <tr>\n",
       "      <th>0</th>\n",
       "      <td>2019-01-01</td>\n",
       "      <td>349184</td>\n",
       "      <td>0</td>\n",
       "      <td>4693</td>\n",
       "      <td>0</td>\n",
       "      <td>46739</td>\n",
       "      <td>NaN</td>\n",
       "      <td>NaN</td>\n",
       "      <td>NaN</td>\n",
       "      <td>NaN</td>\n",
       "      <td>NaN</td>\n",
       "    </tr>\n",
       "    <tr>\n",
       "      <th>1</th>\n",
       "      <td>2019-01-02</td>\n",
       "      <td>867328</td>\n",
       "      <td>0</td>\n",
       "      <td>8501</td>\n",
       "      <td>0</td>\n",
       "      <td>83129</td>\n",
       "      <td>518144.0</td>\n",
       "      <td>0.0</td>\n",
       "      <td>3808.0</td>\n",
       "      <td>0.0</td>\n",
       "      <td>36390.0</td>\n",
       "    </tr>\n",
       "    <tr>\n",
       "      <th>2</th>\n",
       "      <td>2019-01-03</td>\n",
       "      <td>758590</td>\n",
       "      <td>0</td>\n",
       "      <td>9375</td>\n",
       "      <td>0</td>\n",
       "      <td>86067</td>\n",
       "      <td>-108738.0</td>\n",
       "      <td>0.0</td>\n",
       "      <td>874.0</td>\n",
       "      <td>0.0</td>\n",
       "      <td>2938.0</td>\n",
       "    </tr>\n",
       "    <tr>\n",
       "      <th>3</th>\n",
       "      <td>2019-01-04</td>\n",
       "      <td>688873</td>\n",
       "      <td>0</td>\n",
       "      <td>8405</td>\n",
       "      <td>0</td>\n",
       "      <td>69363</td>\n",
       "      <td>-69717.0</td>\n",
       "      <td>0.0</td>\n",
       "      <td>-970.0</td>\n",
       "      <td>0.0</td>\n",
       "      <td>-16704.0</td>\n",
       "    </tr>\n",
       "    <tr>\n",
       "      <th>4</th>\n",
       "      <td>2019-01-05</td>\n",
       "      <td>441760</td>\n",
       "      <td>0</td>\n",
       "      <td>6136</td>\n",
       "      <td>0</td>\n",
       "      <td>56183</td>\n",
       "      <td>-247113.0</td>\n",
       "      <td>0.0</td>\n",
       "      <td>-2269.0</td>\n",
       "      <td>0.0</td>\n",
       "      <td>-13180.0</td>\n",
       "    </tr>\n",
       "    <tr>\n",
       "      <th>5</th>\n",
       "      <td>2019-01-06</td>\n",
       "      <td>539398</td>\n",
       "      <td>0</td>\n",
       "      <td>5762</td>\n",
       "      <td>0</td>\n",
       "      <td>50790</td>\n",
       "      <td>97638.0</td>\n",
       "      <td>0.0</td>\n",
       "      <td>-374.0</td>\n",
       "      <td>0.0</td>\n",
       "      <td>-5393.0</td>\n",
       "    </tr>\n",
       "    <tr>\n",
       "      <th>6</th>\n",
       "      <td>2019-01-07</td>\n",
       "      <td>703413</td>\n",
       "      <td>0</td>\n",
       "      <td>8072</td>\n",
       "      <td>0</td>\n",
       "      <td>73742</td>\n",
       "      <td>164015.0</td>\n",
       "      <td>0.0</td>\n",
       "      <td>2310.0</td>\n",
       "      <td>0.0</td>\n",
       "      <td>22952.0</td>\n",
       "    </tr>\n",
       "    <tr>\n",
       "      <th>7</th>\n",
       "      <td>2019-01-08</td>\n",
       "      <td>884104</td>\n",
       "      <td>0</td>\n",
       "      <td>9455</td>\n",
       "      <td>0</td>\n",
       "      <td>84951</td>\n",
       "      <td>180691.0</td>\n",
       "      <td>0.0</td>\n",
       "      <td>1383.0</td>\n",
       "      <td>0.0</td>\n",
       "      <td>11209.0</td>\n",
       "    </tr>\n",
       "    <tr>\n",
       "      <th>8</th>\n",
       "      <td>2019-01-09</td>\n",
       "      <td>911559</td>\n",
       "      <td>0</td>\n",
       "      <td>10152</td>\n",
       "      <td>0</td>\n",
       "      <td>80605</td>\n",
       "      <td>27455.0</td>\n",
       "      <td>0.0</td>\n",
       "      <td>697.0</td>\n",
       "      <td>0.0</td>\n",
       "      <td>-4346.0</td>\n",
       "    </tr>\n",
       "    <tr>\n",
       "      <th>9</th>\n",
       "      <td>2019-01-10</td>\n",
       "      <td>946827</td>\n",
       "      <td>0</td>\n",
       "      <td>11294</td>\n",
       "      <td>0</td>\n",
       "      <td>87958</td>\n",
       "      <td>35268.0</td>\n",
       "      <td>0.0</td>\n",
       "      <td>1142.0</td>\n",
       "      <td>0.0</td>\n",
       "      <td>7353.0</td>\n",
       "    </tr>\n",
       "    <tr>\n",
       "      <th>10</th>\n",
       "      <td>2019-01-11</td>\n",
       "      <td>744703</td>\n",
       "      <td>0</td>\n",
       "      <td>7899</td>\n",
       "      <td>0</td>\n",
       "      <td>77547</td>\n",
       "      <td>-202124.0</td>\n",
       "      <td>0.0</td>\n",
       "      <td>-3395.0</td>\n",
       "      <td>0.0</td>\n",
       "      <td>-10411.0</td>\n",
       "    </tr>\n",
       "    <tr>\n",
       "      <th>11</th>\n",
       "      <td>2019-01-12</td>\n",
       "      <td>618895</td>\n",
       "      <td>0</td>\n",
       "      <td>6195</td>\n",
       "      <td>0</td>\n",
       "      <td>60575</td>\n",
       "      <td>-125808.0</td>\n",
       "      <td>0.0</td>\n",
       "      <td>-1704.0</td>\n",
       "      <td>0.0</td>\n",
       "      <td>-16972.0</td>\n",
       "    </tr>\n",
       "    <tr>\n",
       "      <th>12</th>\n",
       "      <td>2019-01-13</td>\n",
       "      <td>498954</td>\n",
       "      <td>0</td>\n",
       "      <td>5379</td>\n",
       "      <td>0</td>\n",
       "      <td>54206</td>\n",
       "      <td>-119941.0</td>\n",
       "      <td>0.0</td>\n",
       "      <td>-816.0</td>\n",
       "      <td>0.0</td>\n",
       "      <td>-6369.0</td>\n",
       "    </tr>\n",
       "    <tr>\n",
       "      <th>13</th>\n",
       "      <td>2019-01-14</td>\n",
       "      <td>843095</td>\n",
       "      <td>0</td>\n",
       "      <td>8343</td>\n",
       "      <td>0</td>\n",
       "      <td>79773</td>\n",
       "      <td>344141.0</td>\n",
       "      <td>0.0</td>\n",
       "      <td>2964.0</td>\n",
       "      <td>0.0</td>\n",
       "      <td>25567.0</td>\n",
       "    </tr>\n",
       "    <tr>\n",
       "      <th>14</th>\n",
       "      <td>2019-01-15</td>\n",
       "      <td>828551</td>\n",
       "      <td>0</td>\n",
       "      <td>7777</td>\n",
       "      <td>0</td>\n",
       "      <td>87674</td>\n",
       "      <td>-14544.0</td>\n",
       "      <td>0.0</td>\n",
       "      <td>-566.0</td>\n",
       "      <td>0.0</td>\n",
       "      <td>7901.0</td>\n",
       "    </tr>\n",
       "  </tbody>\n",
       "</table>\n",
       "</div>"
      ],
      "text/plain": [
       "          data  receita  transacoes_blog  transacoes_site  usuarios_blog  \\\n",
       "0   2019-01-01   349184                0             4693              0   \n",
       "1   2019-01-02   867328                0             8501              0   \n",
       "2   2019-01-03   758590                0             9375              0   \n",
       "3   2019-01-04   688873                0             8405              0   \n",
       "4   2019-01-05   441760                0             6136              0   \n",
       "5   2019-01-06   539398                0             5762              0   \n",
       "6   2019-01-07   703413                0             8072              0   \n",
       "7   2019-01-08   884104                0             9455              0   \n",
       "8   2019-01-09   911559                0            10152              0   \n",
       "9   2019-01-10   946827                0            11294              0   \n",
       "10  2019-01-11   744703                0             7899              0   \n",
       "11  2019-01-12   618895                0             6195              0   \n",
       "12  2019-01-13   498954                0             5379              0   \n",
       "13  2019-01-14   843095                0             8343              0   \n",
       "14  2019-01-15   828551                0             7777              0   \n",
       "\n",
       "    usuarios_site  receita_aceleracao  transacoes_blog_aceleracao  \\\n",
       "0           46739                 NaN                         NaN   \n",
       "1           83129            518144.0                         0.0   \n",
       "2           86067           -108738.0                         0.0   \n",
       "3           69363            -69717.0                         0.0   \n",
       "4           56183           -247113.0                         0.0   \n",
       "5           50790             97638.0                         0.0   \n",
       "6           73742            164015.0                         0.0   \n",
       "7           84951            180691.0                         0.0   \n",
       "8           80605             27455.0                         0.0   \n",
       "9           87958             35268.0                         0.0   \n",
       "10          77547           -202124.0                         0.0   \n",
       "11          60575           -125808.0                         0.0   \n",
       "12          54206           -119941.0                         0.0   \n",
       "13          79773            344141.0                         0.0   \n",
       "14          87674            -14544.0                         0.0   \n",
       "\n",
       "    transacoes_site_aceleracao  usuarios_blog_aceleracao  \\\n",
       "0                          NaN                       NaN   \n",
       "1                       3808.0                       0.0   \n",
       "2                        874.0                       0.0   \n",
       "3                       -970.0                       0.0   \n",
       "4                      -2269.0                       0.0   \n",
       "5                       -374.0                       0.0   \n",
       "6                       2310.0                       0.0   \n",
       "7                       1383.0                       0.0   \n",
       "8                        697.0                       0.0   \n",
       "9                       1142.0                       0.0   \n",
       "10                     -3395.0                       0.0   \n",
       "11                     -1704.0                       0.0   \n",
       "12                      -816.0                       0.0   \n",
       "13                      2964.0                       0.0   \n",
       "14                      -566.0                       0.0   \n",
       "\n",
       "    usuarios_site_aceleracao  \n",
       "0                        NaN  \n",
       "1                    36390.0  \n",
       "2                     2938.0  \n",
       "3                   -16704.0  \n",
       "4                   -13180.0  \n",
       "5                    -5393.0  \n",
       "6                    22952.0  \n",
       "7                    11209.0  \n",
       "8                    -4346.0  \n",
       "9                     7353.0  \n",
       "10                  -10411.0  \n",
       "11                  -16972.0  \n",
       "12                   -6369.0  \n",
       "13                   25567.0  \n",
       "14                    7901.0  "
      ]
     },
     "execution_count": 15,
     "metadata": {},
     "output_type": "execute_result"
    }
   ],
   "source": [
    "data.head(15)"
   ]
  },
  {
   "cell_type": "code",
   "execution_count": 16,
   "metadata": {},
   "outputs": [
    {
     "data": {
      "image/png": "[encoded data removed]",
      "text/plain": [
       "<Figure size 1512x720 with 1 Axes>"
      ]
     },
     "metadata": {
      "needs_background": "light"
     },
     "output_type": "display_data"
    }
   ],
   "source": [
    "plot_bar(titulo='Acelaração Receita',x='data',y='receita_aceleracao',xlabel='DATA',ylabel='Acelaração da receita',data=data)"
   ]
  },
  {
   "cell_type": "code",
   "execution_count": 17,
   "metadata": {},
   "outputs": [
    {
     "data": {
      "text/html": [
       "<div>\n",
       "<style scoped>\n",
       "    .dataframe tbody tr th:only-of-type {\n",
       "        vertical-align: middle;\n",
       "    }\n",
       "\n",
       "    .dataframe tbody tr th {\n",
       "        vertical-align: top;\n",
       "    }\n",
       "\n",
       "    .dataframe thead th {\n",
       "        text-align: right;\n",
       "    }\n",
       "</style>\n",
       "<table border=\"1\" class=\"dataframe\">\n",
       "  <thead>\n",
       "    <tr style=\"text-align: right;\">\n",
       "      <th></th>\n",
       "      <th>data</th>\n",
       "      <th>receita</th>\n",
       "      <th>transacoes_blog</th>\n",
       "      <th>transacoes_site</th>\n",
       "      <th>usuarios_blog</th>\n",
       "      <th>usuarios_site</th>\n",
       "      <th>receita_aceleracao</th>\n",
       "      <th>transacoes_blog_aceleracao</th>\n",
       "      <th>transacoes_site_aceleracao</th>\n",
       "      <th>usuarios_blog_aceleracao</th>\n",
       "      <th>...</th>\n",
       "      <th>media_receita</th>\n",
       "      <th>media_receita_14</th>\n",
       "      <th>media_transacoes_site</th>\n",
       "      <th>media_transacoes_site_14</th>\n",
       "      <th>media_transacoes_blog</th>\n",
       "      <th>media_transacoes_blog_14</th>\n",
       "      <th>media_usuarios_blog</th>\n",
       "      <th>media_usuarios_blog_14</th>\n",
       "      <th>media_usuarios_site</th>\n",
       "      <th>media_usuarios_site_14</th>\n",
       "    </tr>\n",
       "  </thead>\n",
       "  <tbody>\n",
       "    <tr>\n",
       "      <th>0</th>\n",
       "      <td>2019-01-01</td>\n",
       "      <td>349184</td>\n",
       "      <td>0</td>\n",
       "      <td>4693</td>\n",
       "      <td>0</td>\n",
       "      <td>46739</td>\n",
       "      <td>NaN</td>\n",
       "      <td>NaN</td>\n",
       "      <td>NaN</td>\n",
       "      <td>NaN</td>\n",
       "      <td>...</td>\n",
       "      <td>NaN</td>\n",
       "      <td>NaN</td>\n",
       "      <td>NaN</td>\n",
       "      <td>NaN</td>\n",
       "      <td>NaN</td>\n",
       "      <td>NaN</td>\n",
       "      <td>NaN</td>\n",
       "      <td>NaN</td>\n",
       "      <td>NaN</td>\n",
       "      <td>NaN</td>\n",
       "    </tr>\n",
       "    <tr>\n",
       "      <th>1</th>\n",
       "      <td>2019-01-02</td>\n",
       "      <td>867328</td>\n",
       "      <td>0</td>\n",
       "      <td>8501</td>\n",
       "      <td>0</td>\n",
       "      <td>83129</td>\n",
       "      <td>518144.0</td>\n",
       "      <td>0.0</td>\n",
       "      <td>3808.0</td>\n",
       "      <td>0.0</td>\n",
       "      <td>...</td>\n",
       "      <td>NaN</td>\n",
       "      <td>NaN</td>\n",
       "      <td>NaN</td>\n",
       "      <td>NaN</td>\n",
       "      <td>NaN</td>\n",
       "      <td>NaN</td>\n",
       "      <td>NaN</td>\n",
       "      <td>NaN</td>\n",
       "      <td>NaN</td>\n",
       "      <td>NaN</td>\n",
       "    </tr>\n",
       "    <tr>\n",
       "      <th>2</th>\n",
       "      <td>2019-01-03</td>\n",
       "      <td>758590</td>\n",
       "      <td>0</td>\n",
       "      <td>9375</td>\n",
       "      <td>0</td>\n",
       "      <td>86067</td>\n",
       "      <td>-108738.0</td>\n",
       "      <td>0.0</td>\n",
       "      <td>874.0</td>\n",
       "      <td>0.0</td>\n",
       "      <td>...</td>\n",
       "      <td>NaN</td>\n",
       "      <td>NaN</td>\n",
       "      <td>NaN</td>\n",
       "      <td>NaN</td>\n",
       "      <td>NaN</td>\n",
       "      <td>NaN</td>\n",
       "      <td>NaN</td>\n",
       "      <td>NaN</td>\n",
       "      <td>NaN</td>\n",
       "      <td>NaN</td>\n",
       "    </tr>\n",
       "    <tr>\n",
       "      <th>3</th>\n",
       "      <td>2019-01-04</td>\n",
       "      <td>688873</td>\n",
       "      <td>0</td>\n",
       "      <td>8405</td>\n",
       "      <td>0</td>\n",
       "      <td>69363</td>\n",
       "      <td>-69717.0</td>\n",
       "      <td>0.0</td>\n",
       "      <td>-970.0</td>\n",
       "      <td>0.0</td>\n",
       "      <td>...</td>\n",
       "      <td>NaN</td>\n",
       "      <td>NaN</td>\n",
       "      <td>NaN</td>\n",
       "      <td>NaN</td>\n",
       "      <td>NaN</td>\n",
       "      <td>NaN</td>\n",
       "      <td>NaN</td>\n",
       "      <td>NaN</td>\n",
       "      <td>NaN</td>\n",
       "      <td>NaN</td>\n",
       "    </tr>\n",
       "    <tr>\n",
       "      <th>4</th>\n",
       "      <td>2019-01-05</td>\n",
       "      <td>441760</td>\n",
       "      <td>0</td>\n",
       "      <td>6136</td>\n",
       "      <td>0</td>\n",
       "      <td>56183</td>\n",
       "      <td>-247113.0</td>\n",
       "      <td>0.0</td>\n",
       "      <td>-2269.0</td>\n",
       "      <td>0.0</td>\n",
       "      <td>...</td>\n",
       "      <td>NaN</td>\n",
       "      <td>NaN</td>\n",
       "      <td>NaN</td>\n",
       "      <td>NaN</td>\n",
       "      <td>NaN</td>\n",
       "      <td>NaN</td>\n",
       "      <td>NaN</td>\n",
       "      <td>NaN</td>\n",
       "      <td>NaN</td>\n",
       "      <td>NaN</td>\n",
       "    </tr>\n",
       "    <tr>\n",
       "      <th>5</th>\n",
       "      <td>2019-01-06</td>\n",
       "      <td>539398</td>\n",
       "      <td>0</td>\n",
       "      <td>5762</td>\n",
       "      <td>0</td>\n",
       "      <td>50790</td>\n",
       "      <td>97638.0</td>\n",
       "      <td>0.0</td>\n",
       "      <td>-374.0</td>\n",
       "      <td>0.0</td>\n",
       "      <td>...</td>\n",
       "      <td>NaN</td>\n",
       "      <td>NaN</td>\n",
       "      <td>NaN</td>\n",
       "      <td>NaN</td>\n",
       "      <td>NaN</td>\n",
       "      <td>NaN</td>\n",
       "      <td>NaN</td>\n",
       "      <td>NaN</td>\n",
       "      <td>NaN</td>\n",
       "      <td>NaN</td>\n",
       "    </tr>\n",
       "    <tr>\n",
       "      <th>6</th>\n",
       "      <td>2019-01-07</td>\n",
       "      <td>703413</td>\n",
       "      <td>0</td>\n",
       "      <td>8072</td>\n",
       "      <td>0</td>\n",
       "      <td>73742</td>\n",
       "      <td>164015.0</td>\n",
       "      <td>0.0</td>\n",
       "      <td>2310.0</td>\n",
       "      <td>0.0</td>\n",
       "      <td>...</td>\n",
       "      <td>621220.857143</td>\n",
       "      <td>NaN</td>\n",
       "      <td>7277.714286</td>\n",
       "      <td>NaN</td>\n",
       "      <td>0.0</td>\n",
       "      <td>NaN</td>\n",
       "      <td>0.0</td>\n",
       "      <td>NaN</td>\n",
       "      <td>66573.285714</td>\n",
       "      <td>NaN</td>\n",
       "    </tr>\n",
       "    <tr>\n",
       "      <th>7</th>\n",
       "      <td>2019-01-08</td>\n",
       "      <td>884104</td>\n",
       "      <td>0</td>\n",
       "      <td>9455</td>\n",
       "      <td>0</td>\n",
       "      <td>84951</td>\n",
       "      <td>180691.0</td>\n",
       "      <td>0.0</td>\n",
       "      <td>1383.0</td>\n",
       "      <td>0.0</td>\n",
       "      <td>...</td>\n",
       "      <td>697638.000000</td>\n",
       "      <td>NaN</td>\n",
       "      <td>7958.000000</td>\n",
       "      <td>NaN</td>\n",
       "      <td>0.0</td>\n",
       "      <td>NaN</td>\n",
       "      <td>0.0</td>\n",
       "      <td>NaN</td>\n",
       "      <td>72032.142857</td>\n",
       "      <td>NaN</td>\n",
       "    </tr>\n",
       "    <tr>\n",
       "      <th>8</th>\n",
       "      <td>2019-01-09</td>\n",
       "      <td>911559</td>\n",
       "      <td>0</td>\n",
       "      <td>10152</td>\n",
       "      <td>0</td>\n",
       "      <td>80605</td>\n",
       "      <td>27455.0</td>\n",
       "      <td>0.0</td>\n",
       "      <td>697.0</td>\n",
       "      <td>0.0</td>\n",
       "      <td>...</td>\n",
       "      <td>703956.714286</td>\n",
       "      <td>NaN</td>\n",
       "      <td>8193.857143</td>\n",
       "      <td>NaN</td>\n",
       "      <td>0.0</td>\n",
       "      <td>NaN</td>\n",
       "      <td>0.0</td>\n",
       "      <td>NaN</td>\n",
       "      <td>71671.571429</td>\n",
       "      <td>NaN</td>\n",
       "    </tr>\n",
       "    <tr>\n",
       "      <th>9</th>\n",
       "      <td>2019-01-10</td>\n",
       "      <td>946827</td>\n",
       "      <td>0</td>\n",
       "      <td>11294</td>\n",
       "      <td>0</td>\n",
       "      <td>87958</td>\n",
       "      <td>35268.0</td>\n",
       "      <td>0.0</td>\n",
       "      <td>1142.0</td>\n",
       "      <td>0.0</td>\n",
       "      <td>...</td>\n",
       "      <td>730847.714286</td>\n",
       "      <td>NaN</td>\n",
       "      <td>8468.000000</td>\n",
       "      <td>NaN</td>\n",
       "      <td>0.0</td>\n",
       "      <td>NaN</td>\n",
       "      <td>0.0</td>\n",
       "      <td>NaN</td>\n",
       "      <td>71941.714286</td>\n",
       "      <td>NaN</td>\n",
       "    </tr>\n",
       "    <tr>\n",
       "      <th>10</th>\n",
       "      <td>2019-01-11</td>\n",
       "      <td>744703</td>\n",
       "      <td>0</td>\n",
       "      <td>7899</td>\n",
       "      <td>0</td>\n",
       "      <td>77547</td>\n",
       "      <td>-202124.0</td>\n",
       "      <td>0.0</td>\n",
       "      <td>-3395.0</td>\n",
       "      <td>0.0</td>\n",
       "      <td>...</td>\n",
       "      <td>738823.428571</td>\n",
       "      <td>NaN</td>\n",
       "      <td>8395.714286</td>\n",
       "      <td>NaN</td>\n",
       "      <td>0.0</td>\n",
       "      <td>NaN</td>\n",
       "      <td>0.0</td>\n",
       "      <td>NaN</td>\n",
       "      <td>73110.857143</td>\n",
       "      <td>NaN</td>\n",
       "    </tr>\n",
       "    <tr>\n",
       "      <th>11</th>\n",
       "      <td>2019-01-12</td>\n",
       "      <td>618895</td>\n",
       "      <td>0</td>\n",
       "      <td>6195</td>\n",
       "      <td>0</td>\n",
       "      <td>60575</td>\n",
       "      <td>-125808.0</td>\n",
       "      <td>0.0</td>\n",
       "      <td>-1704.0</td>\n",
       "      <td>0.0</td>\n",
       "      <td>...</td>\n",
       "      <td>764128.428571</td>\n",
       "      <td>NaN</td>\n",
       "      <td>8404.142857</td>\n",
       "      <td>NaN</td>\n",
       "      <td>0.0</td>\n",
       "      <td>NaN</td>\n",
       "      <td>0.0</td>\n",
       "      <td>NaN</td>\n",
       "      <td>73738.285714</td>\n",
       "      <td>NaN</td>\n",
       "    </tr>\n",
       "    <tr>\n",
       "      <th>12</th>\n",
       "      <td>2019-01-13</td>\n",
       "      <td>498954</td>\n",
       "      <td>0</td>\n",
       "      <td>5379</td>\n",
       "      <td>0</td>\n",
       "      <td>54206</td>\n",
       "      <td>-119941.0</td>\n",
       "      <td>0.0</td>\n",
       "      <td>-816.0</td>\n",
       "      <td>0.0</td>\n",
       "      <td>...</td>\n",
       "      <td>758350.714286</td>\n",
       "      <td>NaN</td>\n",
       "      <td>8349.428571</td>\n",
       "      <td>NaN</td>\n",
       "      <td>0.0</td>\n",
       "      <td>NaN</td>\n",
       "      <td>0.0</td>\n",
       "      <td>NaN</td>\n",
       "      <td>74226.285714</td>\n",
       "      <td>NaN</td>\n",
       "    </tr>\n",
       "    <tr>\n",
       "      <th>13</th>\n",
       "      <td>2019-01-14</td>\n",
       "      <td>843095</td>\n",
       "      <td>0</td>\n",
       "      <td>8343</td>\n",
       "      <td>0</td>\n",
       "      <td>79773</td>\n",
       "      <td>344141.0</td>\n",
       "      <td>0.0</td>\n",
       "      <td>2964.0</td>\n",
       "      <td>0.0</td>\n",
       "      <td>...</td>\n",
       "      <td>778305.285714</td>\n",
       "      <td>699763.071429</td>\n",
       "      <td>8388.142857</td>\n",
       "      <td>7832.928571</td>\n",
       "      <td>0.0</td>\n",
       "      <td>0.0</td>\n",
       "      <td>0.0</td>\n",
       "      <td>0.0</td>\n",
       "      <td>75087.857143</td>\n",
       "      <td>70830.571429</td>\n",
       "    </tr>\n",
       "    <tr>\n",
       "      <th>14</th>\n",
       "      <td>2019-01-15</td>\n",
       "      <td>828551</td>\n",
       "      <td>0</td>\n",
       "      <td>7777</td>\n",
       "      <td>0</td>\n",
       "      <td>87674</td>\n",
       "      <td>-14544.0</td>\n",
       "      <td>0.0</td>\n",
       "      <td>-566.0</td>\n",
       "      <td>0.0</td>\n",
       "      <td>...</td>\n",
       "      <td>770369.142857</td>\n",
       "      <td>734003.571429</td>\n",
       "      <td>8148.428571</td>\n",
       "      <td>8053.214286</td>\n",
       "      <td>0.0</td>\n",
       "      <td>0.0</td>\n",
       "      <td>0.0</td>\n",
       "      <td>0.0</td>\n",
       "      <td>75476.857143</td>\n",
       "      <td>73754.500000</td>\n",
       "    </tr>\n",
       "  </tbody>\n",
       "</table>\n",
       "<p>15 rows × 21 columns</p>\n",
       "</div>"
      ],
      "text/plain": [
       "          data  receita  transacoes_blog  transacoes_site  usuarios_blog  \\\n",
       "0   2019-01-01   349184                0             4693              0   \n",
       "1   2019-01-02   867328                0             8501              0   \n",
       "2   2019-01-03   758590                0             9375              0   \n",
       "3   2019-01-04   688873                0             8405              0   \n",
       "4   2019-01-05   441760                0             6136              0   \n",
       "5   2019-01-06   539398                0             5762              0   \n",
       "6   2019-01-07   703413                0             8072              0   \n",
       "7   2019-01-08   884104                0             9455              0   \n",
       "8   2019-01-09   911559                0            10152              0   \n",
       "9   2019-01-10   946827                0            11294              0   \n",
       "10  2019-01-11   744703                0             7899              0   \n",
       "11  2019-01-12   618895                0             6195              0   \n",
       "12  2019-01-13   498954                0             5379              0   \n",
       "13  2019-01-14   843095                0             8343              0   \n",
       "14  2019-01-15   828551                0             7777              0   \n",
       "\n",
       "    usuarios_site  receita_aceleracao  transacoes_blog_aceleracao  \\\n",
       "0           46739                 NaN                         NaN   \n",
       "1           83129            518144.0                         0.0   \n",
       "2           86067           -108738.0                         0.0   \n",
       "3           69363            -69717.0                         0.0   \n",
       "4           56183           -247113.0                         0.0   \n",
       "5           50790             97638.0                         0.0   \n",
       "6           73742            164015.0                         0.0   \n",
       "7           84951            180691.0                         0.0   \n",
       "8           80605             27455.0                         0.0   \n",
       "9           87958             35268.0                         0.0   \n",
       "10          77547           -202124.0                         0.0   \n",
       "11          60575           -125808.0                         0.0   \n",
       "12          54206           -119941.0                         0.0   \n",
       "13          79773            344141.0                         0.0   \n",
       "14          87674            -14544.0                         0.0   \n",
       "\n",
       "    transacoes_site_aceleracao  usuarios_blog_aceleracao  ...  media_receita  \\\n",
       "0                          NaN                       NaN  ...            NaN   \n",
       "1                       3808.0                       0.0  ...            NaN   \n",
       "2                        874.0                       0.0  ...            NaN   \n",
       "3                       -970.0                       0.0  ...            NaN   \n",
       "4                      -2269.0                       0.0  ...            NaN   \n",
       "5                       -374.0                       0.0  ...            NaN   \n",
       "6                       2310.0                       0.0  ...  621220.857143   \n",
       "7                       1383.0                       0.0  ...  697638.000000   \n",
       "8                        697.0                       0.0  ...  703956.714286   \n",
       "9                       1142.0                       0.0  ...  730847.714286   \n",
       "10                     -3395.0                       0.0  ...  738823.428571   \n",
       "11                     -1704.0                       0.0  ...  764128.428571   \n",
       "12                      -816.0                       0.0  ...  758350.714286   \n",
       "13                      2964.0                       0.0  ...  778305.285714   \n",
       "14                      -566.0                       0.0  ...  770369.142857   \n",
       "\n",
       "    media_receita_14  media_transacoes_site  media_transacoes_site_14  \\\n",
       "0                NaN                    NaN                       NaN   \n",
       "1                NaN                    NaN                       NaN   \n",
       "2                NaN                    NaN                       NaN   \n",
       "3                NaN                    NaN                       NaN   \n",
       "4                NaN                    NaN                       NaN   \n",
       "5                NaN                    NaN                       NaN   \n",
       "6                NaN            7277.714286                       NaN   \n",
       "7                NaN            7958.000000                       NaN   \n",
       "8                NaN            8193.857143                       NaN   \n",
       "9                NaN            8468.000000                       NaN   \n",
       "10               NaN            8395.714286                       NaN   \n",
       "11               NaN            8404.142857                       NaN   \n",
       "12               NaN            8349.428571                       NaN   \n",
       "13     699763.071429            8388.142857               7832.928571   \n",
       "14     734003.571429            8148.428571               8053.214286   \n",
       "\n",
       "    media_transacoes_blog  media_transacoes_blog_14  media_usuarios_blog  \\\n",
       "0                     NaN                       NaN                  NaN   \n",
       "1                     NaN                       NaN                  NaN   \n",
       "2                     NaN                       NaN                  NaN   \n",
       "3                     NaN                       NaN                  NaN   \n",
       "4                     NaN                       NaN                  NaN   \n",
       "5                     NaN                       NaN                  NaN   \n",
       "6                     0.0                       NaN                  0.0   \n",
       "7                     0.0                       NaN                  0.0   \n",
       "8                     0.0                       NaN                  0.0   \n",
       "9                     0.0                       NaN                  0.0   \n",
       "10                    0.0                       NaN                  0.0   \n",
       "11                    0.0                       NaN                  0.0   \n",
       "12                    0.0                       NaN                  0.0   \n",
       "13                    0.0                       0.0                  0.0   \n",
       "14                    0.0                       0.0                  0.0   \n",
       "\n",
       "    media_usuarios_blog_14  media_usuarios_site  media_usuarios_site_14  \n",
       "0                      NaN                  NaN                     NaN  \n",
       "1                      NaN                  NaN                     NaN  \n",
       "2                      NaN                  NaN                     NaN  \n",
       "3                      NaN                  NaN                     NaN  \n",
       "4                      NaN                  NaN                     NaN  \n",
       "5                      NaN                  NaN                     NaN  \n",
       "6                      NaN         66573.285714                     NaN  \n",
       "7                      NaN         72032.142857                     NaN  \n",
       "8                      NaN         71671.571429                     NaN  \n",
       "9                      NaN         71941.714286                     NaN  \n",
       "10                     NaN         73110.857143                     NaN  \n",
       "11                     NaN         73738.285714                     NaN  \n",
       "12                     NaN         74226.285714                     NaN  \n",
       "13                     0.0         75087.857143            70830.571429  \n",
       "14                     0.0         75476.857143            73754.500000  \n",
       "\n",
       "[15 rows x 21 columns]"
      ]
     },
     "execution_count": 17,
     "metadata": {},
     "output_type": "execute_result"
    }
   ],
   "source": [
    "data['media_receita'] = data.receita.rolling(window=7, center=False).mean()\n",
    "data['media_receita_14']=data.receita.rolling(window=14, center=False).mean()\n",
    "\n",
    "data['media_transacoes_site'] = data.transacoes_site.rolling(window=7, center=False).mean()\n",
    "data['media_transacoes_site_14']=data.transacoes_site.rolling(window=14, center=False).mean()\n",
    "\n",
    "data['media_transacoes_blog'] = data.transacoes_blog.rolling(window=7, center=False).mean()\n",
    "data['media_transacoes_blog_14']=data.transacoes_blog.rolling(window=14, center=False).mean()\n",
    "\n",
    "data['media_usuarios_blog'] = data.usuarios_blog.rolling(window=7, center=False).mean()\n",
    "data['media_usuarios_blog_14']=data.usuarios_blog.rolling(window=14, center=False).mean()\n",
    "\n",
    "data['media_usuarios_site'] = data.usuarios_site.rolling(window=7, center=False).mean()\n",
    "data['media_usuarios_site_14']=data.usuarios_site.rolling(window=14, center=False).mean()\n",
    "data.head(15)"
   ]
  },
  {
   "cell_type": "code",
   "execution_count": 18,
   "metadata": {},
   "outputs": [
    {
     "data": {
      "image/png": "[encoded data removed]",
      "text/plain": [
       "<Figure size 864x432 with 1 Axes>"
      ]
     },
     "metadata": {
      "needs_background": "light"
     },
     "output_type": "display_data"
    }
   ],
   "source": [
    "plt.figure(figsize=(20,12))\n",
    "plot_line(titulo='Media receita', x='data',y='media_receita',xlabel='data', ylabel='Média',data=data,hue=None)\n",
    "plot_line(titulo='Media receita', x='data',y='media_receita_14',xlabel='data', ylabel='Média',data=data,hue=None)\n",
    "\n",
    "plt.bar(data['data'],data['receita'], color='lightgrey');"
   ]
  },
  {
   "cell_type": "code",
   "execution_count": 39,
   "metadata": {},
   "outputs": [
    {
     "data": {
      "image/png": "[encoded data removed]",
      "text/plain": [
       "<Figure size 864x432 with 1 Axes>"
      ]
     },
     "metadata": {
      "needs_background": "light"
     },
     "output_type": "display_data"
    }
   ],
   "source": [
    "plt.figure(figsize=(20,12))\n",
    "plot_line(titulo='media transacoes_site', x='data',y='media_transacoes_site',xlabel='data', ylabel='Média',data=data,hue=None)\n",
    "plot_line(titulo='media transacoes_site', x='data',y='media_transacoes_site_14',xlabel='data', ylabel='Média',data=data,hue=None)\n",
    "\n",
    "plt.bar(data['data'],data['transacoes_site'], color='lightgrey');"
   ]
  },
  {
   "cell_type": "code",
   "execution_count": 40,
   "metadata": {},
   "outputs": [
    {
     "data": {
      "image/png": "[encoded data removed]",
      "text/plain": [
       "<Figure size 864x432 with 1 Axes>"
      ]
     },
     "metadata": {
      "needs_background": "light"
     },
     "output_type": "display_data"
    }
   ],
   "source": [
    "plt.figure(figsize=(20,12))\n",
    "plot_line(titulo='media transacoes_blog', x='data',y='media_transacoes_blog',xlabel='data', ylabel='Média',data=data,hue=None)\n",
    "plot_line(titulo='media transacoes_blog', x='data',y='media_transacoes_blog_14',xlabel='data', ylabel='Média',data=data,hue=None)\n",
    "\n",
    "plt.bar(data['data'],data['transacoes_blog'], color='lightgrey');"
   ]
  },
  {
   "cell_type": "code",
   "execution_count": 41,
   "metadata": {},
   "outputs": [
    {
     "data": {
      "image/png": "[encoded data removed]",
      "text/plain": [
       "<Figure size 864x432 with 1 Axes>"
      ]
     },
     "metadata": {
      "needs_background": "light"
     },
     "output_type": "display_data"
    }
   ],
   "source": [
    "plt.figure(figsize=(20,12))\n",
    "plot_line(titulo='Media usuarios blog', x='data',y='media_usuarios_blog',xlabel='data', ylabel='Média',data=data,hue=None)\n",
    "plot_line(titulo='Media usuarios blog', x='data',y='media_usuarios_blog_14',xlabel='data', ylabel='Média',data=data,hue=None)\n",
    "\n",
    "plt.bar(data['data'],data['usuarios_blog'], color='lightgrey');"
   ]
  },
  {
   "cell_type": "code",
   "execution_count": 44,
   "metadata": {},
   "outputs": [
    {
     "data": {
      "image/png": "[encoded data removed]",
      "text/plain": [
       "<Figure size 864x432 with 1 Axes>"
      ]
     },
     "metadata": {
      "needs_background": "light"
     },
     "output_type": "display_data"
    }
   ],
   "source": [
    "\n",
    "plt.figure(figsize=(20,12))\n",
    "plot_line(titulo='media usuarios site', x='data',y='media_usuarios_site',xlabel='data', ylabel='Média',data=data,hue=None)\n",
    "plot_line(titulo='media usuarios site', x='data',y='media_usuarios_site_14',xlabel='data', ylabel='Média',data=data,hue=None)\n",
    "\n",
    "plt.bar(data['data'],data['usuarios_site'], color='lightgrey');"
   ]
  },
  {
   "cell_type": "code",
   "execution_count": null,
   "metadata": {},
   "outputs": [],
   "source": []
  },
  {
   "cell_type": "code",
   "execution_count": 46,
   "metadata": {},
   "outputs": [
    {
     "name": "stdout",
     "output_type": "stream",
     "text": [
      "<class 'pandas.core.frame.DataFrame'>\n",
      "RangeIndex: 639 entries, 0 to 638\n",
      "Data columns (total 21 columns):\n",
      " #   Column                      Non-Null Count  Dtype  \n",
      "---  ------                      --------------  -----  \n",
      " 0   data                        639 non-null    object \n",
      " 1   receita                     639 non-null    int64  \n",
      " 2   transacoes_blog             639 non-null    int64  \n",
      " 3   transacoes_site             639 non-null    int64  \n",
      " 4   usuarios_blog               639 non-null    int64  \n",
      " 5   usuarios_site               639 non-null    int64  \n",
      " 6   receita_aceleracao          638 non-null    float64\n",
      " 7   transacoes_blog_aceleracao  638 non-null    float64\n",
      " 8   transacoes_site_aceleracao  638 non-null    float64\n",
      " 9   usuarios_blog_aceleracao    638 non-null    float64\n",
      " 10  usuarios_site_aceleracao    638 non-null    float64\n",
      " 11  media_receita               633 non-null    float64\n",
      " 12  media_receita_14            626 non-null    float64\n",
      " 13  media_transacoes_site       633 non-null    float64\n",
      " 14  media_transacoes_site_14    626 non-null    float64\n",
      " 15  media_transacoes_blog       633 non-null    float64\n",
      " 16  media_transacoes_blog_14    626 non-null    float64\n",
      " 17  media_usuarios_blog         633 non-null    float64\n",
      " 18  media_usuarios_blog_14      626 non-null    float64\n",
      " 19  media_usuarios_site         633 non-null    float64\n",
      " 20  media_usuarios_site_14      626 non-null    float64\n",
      "dtypes: float64(15), int64(5), object(1)\n",
      "memory usage: 105.0+ KB\n"
     ]
    }
   ],
   "source": [
    "data.info()"
   ]
  },
  {
   "cell_type": "code",
   "execution_count": 48,
   "metadata": {},
   "outputs": [
    {
     "data": {
      "text/html": [
       "<div>\n",
       "<style scoped>\n",
       "    .dataframe tbody tr th:only-of-type {\n",
       "        vertical-align: middle;\n",
       "    }\n",
       "\n",
       "    .dataframe tbody tr th {\n",
       "        vertical-align: top;\n",
       "    }\n",
       "\n",
       "    .dataframe thead th {\n",
       "        text-align: right;\n",
       "    }\n",
       "</style>\n",
       "<table border=\"1\" class=\"dataframe\">\n",
       "  <thead>\n",
       "    <tr style=\"text-align: right;\">\n",
       "      <th></th>\n",
       "      <th>data</th>\n",
       "      <th>receita</th>\n",
       "      <th>transacoes_blog</th>\n",
       "      <th>transacoes_site</th>\n",
       "      <th>usuarios_blog</th>\n",
       "      <th>usuarios_site</th>\n",
       "      <th>receita_aceleracao</th>\n",
       "      <th>transacoes_blog_aceleracao</th>\n",
       "      <th>transacoes_site_aceleracao</th>\n",
       "      <th>usuarios_blog_aceleracao</th>\n",
       "      <th>...</th>\n",
       "      <th>media_receita_14</th>\n",
       "      <th>media_transacoes_site</th>\n",
       "      <th>media_transacoes_site_14</th>\n",
       "      <th>media_transacoes_blog</th>\n",
       "      <th>media_transacoes_blog_14</th>\n",
       "      <th>media_usuarios_blog</th>\n",
       "      <th>media_usuarios_blog_14</th>\n",
       "      <th>media_usuarios_site</th>\n",
       "      <th>media_usuarios_site_14</th>\n",
       "      <th>dia_da_semana</th>\n",
       "    </tr>\n",
       "  </thead>\n",
       "  <tbody>\n",
       "    <tr>\n",
       "      <th>0</th>\n",
       "      <td>2019-01-01</td>\n",
       "      <td>349184</td>\n",
       "      <td>0</td>\n",
       "      <td>4693</td>\n",
       "      <td>0</td>\n",
       "      <td>46739</td>\n",
       "      <td>NaN</td>\n",
       "      <td>NaN</td>\n",
       "      <td>NaN</td>\n",
       "      <td>NaN</td>\n",
       "      <td>...</td>\n",
       "      <td>NaN</td>\n",
       "      <td>NaN</td>\n",
       "      <td>NaN</td>\n",
       "      <td>NaN</td>\n",
       "      <td>NaN</td>\n",
       "      <td>NaN</td>\n",
       "      <td>NaN</td>\n",
       "      <td>NaN</td>\n",
       "      <td>NaN</td>\n",
       "      <td>Tuesday</td>\n",
       "    </tr>\n",
       "    <tr>\n",
       "      <th>1</th>\n",
       "      <td>2019-01-02</td>\n",
       "      <td>867328</td>\n",
       "      <td>0</td>\n",
       "      <td>8501</td>\n",
       "      <td>0</td>\n",
       "      <td>83129</td>\n",
       "      <td>518144.0</td>\n",
       "      <td>0.0</td>\n",
       "      <td>3808.0</td>\n",
       "      <td>0.0</td>\n",
       "      <td>...</td>\n",
       "      <td>NaN</td>\n",
       "      <td>NaN</td>\n",
       "      <td>NaN</td>\n",
       "      <td>NaN</td>\n",
       "      <td>NaN</td>\n",
       "      <td>NaN</td>\n",
       "      <td>NaN</td>\n",
       "      <td>NaN</td>\n",
       "      <td>NaN</td>\n",
       "      <td>Wednesday</td>\n",
       "    </tr>\n",
       "    <tr>\n",
       "      <th>2</th>\n",
       "      <td>2019-01-03</td>\n",
       "      <td>758590</td>\n",
       "      <td>0</td>\n",
       "      <td>9375</td>\n",
       "      <td>0</td>\n",
       "      <td>86067</td>\n",
       "      <td>-108738.0</td>\n",
       "      <td>0.0</td>\n",
       "      <td>874.0</td>\n",
       "      <td>0.0</td>\n",
       "      <td>...</td>\n",
       "      <td>NaN</td>\n",
       "      <td>NaN</td>\n",
       "      <td>NaN</td>\n",
       "      <td>NaN</td>\n",
       "      <td>NaN</td>\n",
       "      <td>NaN</td>\n",
       "      <td>NaN</td>\n",
       "      <td>NaN</td>\n",
       "      <td>NaN</td>\n",
       "      <td>Thursday</td>\n",
       "    </tr>\n",
       "    <tr>\n",
       "      <th>3</th>\n",
       "      <td>2019-01-04</td>\n",
       "      <td>688873</td>\n",
       "      <td>0</td>\n",
       "      <td>8405</td>\n",
       "      <td>0</td>\n",
       "      <td>69363</td>\n",
       "      <td>-69717.0</td>\n",
       "      <td>0.0</td>\n",
       "      <td>-970.0</td>\n",
       "      <td>0.0</td>\n",
       "      <td>...</td>\n",
       "      <td>NaN</td>\n",
       "      <td>NaN</td>\n",
       "      <td>NaN</td>\n",
       "      <td>NaN</td>\n",
       "      <td>NaN</td>\n",
       "      <td>NaN</td>\n",
       "      <td>NaN</td>\n",
       "      <td>NaN</td>\n",
       "      <td>NaN</td>\n",
       "      <td>Friday</td>\n",
       "    </tr>\n",
       "    <tr>\n",
       "      <th>4</th>\n",
       "      <td>2019-01-05</td>\n",
       "      <td>441760</td>\n",
       "      <td>0</td>\n",
       "      <td>6136</td>\n",
       "      <td>0</td>\n",
       "      <td>56183</td>\n",
       "      <td>-247113.0</td>\n",
       "      <td>0.0</td>\n",
       "      <td>-2269.0</td>\n",
       "      <td>0.0</td>\n",
       "      <td>...</td>\n",
       "      <td>NaN</td>\n",
       "      <td>NaN</td>\n",
       "      <td>NaN</td>\n",
       "      <td>NaN</td>\n",
       "      <td>NaN</td>\n",
       "      <td>NaN</td>\n",
       "      <td>NaN</td>\n",
       "      <td>NaN</td>\n",
       "      <td>NaN</td>\n",
       "      <td>Saturday</td>\n",
       "    </tr>\n",
       "  </tbody>\n",
       "</table>\n",
       "<p>5 rows × 22 columns</p>\n",
       "</div>"
      ],
      "text/plain": [
       "        data  receita  transacoes_blog  transacoes_site  usuarios_blog  \\\n",
       "0 2019-01-01   349184                0             4693              0   \n",
       "1 2019-01-02   867328                0             8501              0   \n",
       "2 2019-01-03   758590                0             9375              0   \n",
       "3 2019-01-04   688873                0             8405              0   \n",
       "4 2019-01-05   441760                0             6136              0   \n",
       "\n",
       "   usuarios_site  receita_aceleracao  transacoes_blog_aceleracao  \\\n",
       "0          46739                 NaN                         NaN   \n",
       "1          83129            518144.0                         0.0   \n",
       "2          86067           -108738.0                         0.0   \n",
       "3          69363            -69717.0                         0.0   \n",
       "4          56183           -247113.0                         0.0   \n",
       "\n",
       "   transacoes_site_aceleracao  usuarios_blog_aceleracao  ...  \\\n",
       "0                         NaN                       NaN  ...   \n",
       "1                      3808.0                       0.0  ...   \n",
       "2                       874.0                       0.0  ...   \n",
       "3                      -970.0                       0.0  ...   \n",
       "4                     -2269.0                       0.0  ...   \n",
       "\n",
       "   media_receita_14  media_transacoes_site  media_transacoes_site_14  \\\n",
       "0               NaN                    NaN                       NaN   \n",
       "1               NaN                    NaN                       NaN   \n",
       "2               NaN                    NaN                       NaN   \n",
       "3               NaN                    NaN                       NaN   \n",
       "4               NaN                    NaN                       NaN   \n",
       "\n",
       "   media_transacoes_blog  media_transacoes_blog_14  media_usuarios_blog  \\\n",
       "0                    NaN                       NaN                  NaN   \n",
       "1                    NaN                       NaN                  NaN   \n",
       "2                    NaN                       NaN                  NaN   \n",
       "3                    NaN                       NaN                  NaN   \n",
       "4                    NaN                       NaN                  NaN   \n",
       "\n",
       "   media_usuarios_blog_14  media_usuarios_site  media_usuarios_site_14  \\\n",
       "0                     NaN                  NaN                     NaN   \n",
       "1                     NaN                  NaN                     NaN   \n",
       "2                     NaN                  NaN                     NaN   \n",
       "3                     NaN                  NaN                     NaN   \n",
       "4                     NaN                  NaN                     NaN   \n",
       "\n",
       "   dia_da_semana  \n",
       "0        Tuesday  \n",
       "1      Wednesday  \n",
       "2       Thursday  \n",
       "3         Friday  \n",
       "4       Saturday  \n",
       "\n",
       "[5 rows x 22 columns]"
      ]
     },
     "execution_count": 48,
     "metadata": {},
     "output_type": "execute_result"
    }
   ],
   "source": [
    "data['dia_da_semana'] = data['data'].dt.day_name()\n",
    "data.head()"
   ]
  },
  {
   "cell_type": "code",
   "execution_count": 49,
   "metadata": {},
   "outputs": [],
   "source": [
    "# Dic dos dias da semana\n",
    "dias_traduzidos = {'Monday' : 'Segunda' , \n",
    "                   'Tuesday' : 'Terça' , \n",
    "                   'Wednesday' : 'Quarta' , \n",
    "                   'Thursday' : 'Quinta' , \n",
    "                   'Friday' : 'Sexta' , \n",
    "                   'Saturday' : 'Sábado' , \n",
    "                   'Sunday' : 'Domingo'\n",
    "                   }"
   ]
  },
  {
   "cell_type": "code",
   "execution_count": 50,
   "metadata": {},
   "outputs": [],
   "source": [
    "data['dia_da_semana'] = data['dia_da_semana'].map(dias_traduzidos)"
   ]
  },
  {
   "cell_type": "code",
   "execution_count": 52,
   "metadata": {},
   "outputs": [],
   "source": [
    "group_receita = data.groupby('dia_da_semana')['receita','receita_aceleracao'].mean().round()\n",
    "group_transacao = data.groupby('dia_da_semana')['transacoes_site','transacoes_site_aceleracao','transacoes_blog','transacoes_blog_aceleracao'].mean().round()\n",
    "group_users = data.groupby('dia_da_semana')['usuarios_blog','usuarios_blog_aceleracao','usuarios_site','usuarios_site_aceleracao'].mean().round()\n"
   ]
  },
  {
   "cell_type": "code",
   "execution_count": 53,
   "metadata": {},
   "outputs": [],
   "source": [
    "group_receita['dia_da_semana'] = group_receita.index\n",
    "group_transacao['dia_da_semana'] = group_transacao.index\n",
    "group_users['dia_da_semana'] = group_users.index"
   ]
  },
  {
   "cell_type": "code",
   "execution_count": 54,
   "metadata": {},
   "outputs": [
    {
     "data": {
      "text/html": [
       "<div>\n",
       "<style scoped>\n",
       "    .dataframe tbody tr th:only-of-type {\n",
       "        vertical-align: middle;\n",
       "    }\n",
       "\n",
       "    .dataframe tbody tr th {\n",
       "        vertical-align: top;\n",
       "    }\n",
       "\n",
       "    .dataframe thead th {\n",
       "        text-align: right;\n",
       "    }\n",
       "</style>\n",
       "<table border=\"1\" class=\"dataframe\">\n",
       "  <thead>\n",
       "    <tr style=\"text-align: right;\">\n",
       "      <th></th>\n",
       "      <th>receita</th>\n",
       "      <th>receita_aceleracao</th>\n",
       "      <th>dia_da_semana</th>\n",
       "    </tr>\n",
       "    <tr>\n",
       "      <th>dia_da_semana</th>\n",
       "      <th></th>\n",
       "      <th></th>\n",
       "      <th></th>\n",
       "    </tr>\n",
       "  </thead>\n",
       "  <tbody>\n",
       "    <tr>\n",
       "      <th>Domingo</th>\n",
       "      <td>1220678.0</td>\n",
       "      <td>-75152.0</td>\n",
       "      <td>Domingo</td>\n",
       "    </tr>\n",
       "    <tr>\n",
       "      <th>Quarta</th>\n",
       "      <td>1891459.0</td>\n",
       "      <td>167837.0</td>\n",
       "      <td>Quarta</td>\n",
       "    </tr>\n",
       "    <tr>\n",
       "      <th>Quinta</th>\n",
       "      <td>1859781.0</td>\n",
       "      <td>16111.0</td>\n",
       "      <td>Quinta</td>\n",
       "    </tr>\n",
       "    <tr>\n",
       "      <th>Segunda</th>\n",
       "      <td>1631217.0</td>\n",
       "      <td>410539.0</td>\n",
       "      <td>Segunda</td>\n",
       "    </tr>\n",
       "    <tr>\n",
       "      <th>Sexta</th>\n",
       "      <td>1740616.0</td>\n",
       "      <td>-119166.0</td>\n",
       "      <td>Sexta</td>\n",
       "    </tr>\n",
       "    <tr>\n",
       "      <th>Sábado</th>\n",
       "      <td>1295830.0</td>\n",
       "      <td>-444786.0</td>\n",
       "      <td>Sábado</td>\n",
       "    </tr>\n",
       "    <tr>\n",
       "      <th>Terça</th>\n",
       "      <td>1723622.0</td>\n",
       "      <td>107508.0</td>\n",
       "      <td>Terça</td>\n",
       "    </tr>\n",
       "  </tbody>\n",
       "</table>\n",
       "</div>"
      ],
      "text/plain": [
       "                 receita  receita_aceleracao dia_da_semana\n",
       "dia_da_semana                                             \n",
       "Domingo        1220678.0            -75152.0       Domingo\n",
       "Quarta         1891459.0            167837.0        Quarta\n",
       "Quinta         1859781.0             16111.0        Quinta\n",
       "Segunda        1631217.0            410539.0       Segunda\n",
       "Sexta          1740616.0           -119166.0         Sexta\n",
       "Sábado         1295830.0           -444786.0        Sábado\n",
       "Terça          1723622.0            107508.0         Terça"
      ]
     },
     "execution_count": 54,
     "metadata": {},
     "output_type": "execute_result"
    }
   ],
   "source": [
    "group_receita.head(7)"
   ]
  },
  {
   "cell_type": "code",
   "execution_count": 55,
   "metadata": {},
   "outputs": [],
   "source": [
    "group_users = group_users.reindex(['Domingo','Segunda','Terça','Quarta','Quinta','Sexta','Sábado'])\n",
    "group_transacao = group_transacao.reindex(['Domingo','Segunda','Terça','Quarta','Quinta','Sexta','Sábado'])\n",
    "group_receita = group_receita.reindex(['Domingo','Segunda','Terça','Quarta','Quinta','Sexta','Sábado'])"
   ]
  },
  {
   "cell_type": "code",
   "execution_count": 56,
   "metadata": {},
   "outputs": [
    {
     "data": {
      "image/png": "[encoded data removed]",
      "text/plain": [
       "<Figure size 432x288 with 1 Axes>"
      ]
     },
     "metadata": {
      "needs_background": "light"
     },
     "output_type": "display_data"
    }
   ],
   "source": [
    "sns.barplot(group_receita.dia_da_semana,group_receita.receita);"
   ]
  },
  {
   "cell_type": "code",
   "execution_count": 57,
   "metadata": {},
   "outputs": [
    {
     "data": {
      "image/png": "[encoded data removed]",
      "text/plain": [
       "<Figure size 432x288 with 1 Axes>"
      ]
     },
     "metadata": {
      "needs_background": "light"
     },
     "output_type": "display_data"
    }
   ],
   "source": [
    "sns.barplot(group_users.dia_da_semana,group_users.usuarios_blog);"
   ]
  },
  {
   "cell_type": "code",
   "execution_count": 60,
   "metadata": {},
   "outputs": [
    {
     "data": {
      "image/png": "[encoded data removed]",
      "text/plain": [
       "<Figure size 432x288 with 1 Axes>"
      ]
     },
     "metadata": {
      "needs_background": "light"
     },
     "output_type": "display_data"
    }
   ],
   "source": [
    "sns.barplot(group_users.dia_da_semana,group_users.usuarios_site);"
   ]
  },
  {
   "cell_type": "code",
   "execution_count": 59,
   "metadata": {},
   "outputs": [
    {
     "data": {
      "image/png": "[encoded data removed]",
      "text/plain": [
       "<Figure size 432x288 with 1 Axes>"
      ]
     },
     "metadata": {
      "needs_background": "light"
     },
     "output_type": "display_data"
    }
   ],
   "source": [
    "sns.barplot(group_transacao.dia_da_semana,group_transacao.transacoes_site);"
   ]
  },
  {
   "cell_type": "code",
   "execution_count": 61,
   "metadata": {},
   "outputs": [
    {
     "data": {
      "image/png": "[encoded data removed]",
      "text/plain": [
       "<Figure size 432x288 with 1 Axes>"
      ]
     },
     "metadata": {
      "needs_background": "light"
     },
     "output_type": "display_data"
    }
   ],
   "source": [
    "sns.barplot(group_transacao.dia_da_semana,group_transacao.transacoes_blog);"
   ]
  },
  {
   "cell_type": "code",
   "execution_count": null,
   "metadata": {},
   "outputs": [],
   "source": []
  },
  {
   "cell_type": "markdown",
   "metadata": {},
   "source": [
    "Com um pouco de análises estatisticas vemos que dia da semana com maior **Receita** esta sendo a *quarta* , o dia que tem maior media de  usuarios no **blog** é terça, usuarios no **site** *tem a maior media no dia na quarta, porém nas terças e quintas o acesso é muito alto também*, já na parte de transações vemos que o **site** *tem maior media em dois dias na quarta e na quinta* , já o **blog**  fica com a *terça e quarta*"
   ]
  },
  {
   "cell_type": "code",
   "execution_count": null,
   "metadata": {},
   "outputs": [],
   "source": []
  },
  {
   "cell_type": "markdown",
   "metadata": {},
   "source": [
    "# Feature extraction\n",
    "* dividindo as series temporais\n",
    "* tratando os dados zeros"
   ]
  },
  {
   "cell_type": "code",
   "execution_count": null,
   "metadata": {},
   "outputs": [],
   "source": []
  },
  {
   "cell_type": "code",
   "execution_count": 73,
   "metadata": {},
   "outputs": [],
   "source": [
    "df_noZeros=data_backup.replace(0,np.nan)"
   ]
  },
  {
   "cell_type": "code",
   "execution_count": 74,
   "metadata": {},
   "outputs": [
    {
     "name": "stdout",
     "output_type": "stream",
     "text": [
      "<class 'pandas.core.frame.DataFrame'>\n",
      "RangeIndex: 639 entries, 0 to 638\n",
      "Data columns (total 6 columns):\n",
      " #   Column           Non-Null Count  Dtype  \n",
      "---  ------           --------------  -----  \n",
      " 0   data             639 non-null    object \n",
      " 1   receita          639 non-null    int64  \n",
      " 2   transacoes_blog  122 non-null    float64\n",
      " 3   transacoes_site  639 non-null    int64  \n",
      " 4   usuarios_blog    122 non-null    float64\n",
      " 5   usuarios_site    639 non-null    int64  \n",
      "dtypes: float64(2), int64(3), object(1)\n",
      "memory usage: 30.1+ KB\n"
     ]
    }
   ],
   "source": [
    "df_noZeros.info()"
   ]
  },
  {
   "cell_type": "code",
   "execution_count": 75,
   "metadata": {},
   "outputs": [
    {
     "data": {
      "text/plain": [
       "2767.344262295082"
      ]
     },
     "execution_count": 75,
     "metadata": {},
     "output_type": "execute_result"
    }
   ],
   "source": [
    "df_noZeros.transacoes_blog.mean()"
   ]
  },
  {
   "cell_type": "code",
   "execution_count": 76,
   "metadata": {},
   "outputs": [
    {
     "data": {
      "text/plain": [
       "1169.620696943617"
      ]
     },
     "execution_count": 76,
     "metadata": {},
     "output_type": "execute_result"
    }
   ],
   "source": [
    "df_noZeros.transacoes_blog.std()"
   ]
  },
  {
   "cell_type": "code",
   "execution_count": 77,
   "metadata": {},
   "outputs": [
    {
     "data": {
      "text/plain": [
       "1597.723565351465"
      ]
     },
     "execution_count": 77,
     "metadata": {},
     "output_type": "execute_result"
    }
   ],
   "source": [
    "df_noZeros.transacoes_blog.mean() - df_noZeros.transacoes_blog.std()"
   ]
  },
  {
   "cell_type": "code",
   "execution_count": 78,
   "metadata": {},
   "outputs": [
    {
     "data": {
      "text/plain": [
       "7541.5"
      ]
     },
     "execution_count": 78,
     "metadata": {},
     "output_type": "execute_result"
    }
   ],
   "source": [
    "df_noZeros.usuarios_blog.mean()"
   ]
  },
  {
   "cell_type": "code",
   "execution_count": 79,
   "metadata": {},
   "outputs": [
    {
     "data": {
      "text/plain": [
       "3671.701034053709"
      ]
     },
     "execution_count": 79,
     "metadata": {},
     "output_type": "execute_result"
    }
   ],
   "source": [
    "df_noZeros.usuarios_blog.std()"
   ]
  },
  {
   "cell_type": "code",
   "execution_count": 80,
   "metadata": {},
   "outputs": [
    {
     "data": {
      "text/plain": [
       "3869.798965946291"
      ]
     },
     "execution_count": 80,
     "metadata": {},
     "output_type": "execute_result"
    }
   ],
   "source": [
    "df_noZeros.usuarios_blog.mean() - df_noZeros.usuarios_blog.std()"
   ]
  },
  {
   "cell_type": "code",
   "execution_count": 81,
   "metadata": {},
   "outputs": [],
   "source": [
    "df_noZeros.transacoes_blog.fillna(2257.9, inplace=True)\n",
    "df_noZeros.usuarios_blog.fillna(3869.7, inplace=True)"
   ]
  },
  {
   "cell_type": "code",
   "execution_count": 82,
   "metadata": {},
   "outputs": [],
   "source": [
    "df_noZeros.data = pd.to_datetime(df_noZeros.data)"
   ]
  },
  {
   "cell_type": "code",
   "execution_count": 83,
   "metadata": {},
   "outputs": [
    {
     "data": {
      "text/html": [
       "<div>\n",
       "<style scoped>\n",
       "    .dataframe tbody tr th:only-of-type {\n",
       "        vertical-align: middle;\n",
       "    }\n",
       "\n",
       "    .dataframe tbody tr th {\n",
       "        vertical-align: top;\n",
       "    }\n",
       "\n",
       "    .dataframe thead th {\n",
       "        text-align: right;\n",
       "    }\n",
       "</style>\n",
       "<table border=\"1\" class=\"dataframe\">\n",
       "  <thead>\n",
       "    <tr style=\"text-align: right;\">\n",
       "      <th></th>\n",
       "      <th>data</th>\n",
       "      <th>receita</th>\n",
       "      <th>transacoes_blog</th>\n",
       "      <th>transacoes_site</th>\n",
       "      <th>usuarios_blog</th>\n",
       "      <th>usuarios_site</th>\n",
       "    </tr>\n",
       "  </thead>\n",
       "  <tbody>\n",
       "    <tr>\n",
       "      <th>0</th>\n",
       "      <td>2019-01-01</td>\n",
       "      <td>349184</td>\n",
       "      <td>2257.9</td>\n",
       "      <td>4693</td>\n",
       "      <td>3869.7</td>\n",
       "      <td>46739</td>\n",
       "    </tr>\n",
       "    <tr>\n",
       "      <th>1</th>\n",
       "      <td>2019-01-02</td>\n",
       "      <td>867328</td>\n",
       "      <td>2257.9</td>\n",
       "      <td>8501</td>\n",
       "      <td>3869.7</td>\n",
       "      <td>83129</td>\n",
       "    </tr>\n",
       "    <tr>\n",
       "      <th>2</th>\n",
       "      <td>2019-01-03</td>\n",
       "      <td>758590</td>\n",
       "      <td>2257.9</td>\n",
       "      <td>9375</td>\n",
       "      <td>3869.7</td>\n",
       "      <td>86067</td>\n",
       "    </tr>\n",
       "    <tr>\n",
       "      <th>3</th>\n",
       "      <td>2019-01-04</td>\n",
       "      <td>688873</td>\n",
       "      <td>2257.9</td>\n",
       "      <td>8405</td>\n",
       "      <td>3869.7</td>\n",
       "      <td>69363</td>\n",
       "    </tr>\n",
       "    <tr>\n",
       "      <th>4</th>\n",
       "      <td>2019-01-05</td>\n",
       "      <td>441760</td>\n",
       "      <td>2257.9</td>\n",
       "      <td>6136</td>\n",
       "      <td>3869.7</td>\n",
       "      <td>56183</td>\n",
       "    </tr>\n",
       "    <tr>\n",
       "      <th>...</th>\n",
       "      <td>...</td>\n",
       "      <td>...</td>\n",
       "      <td>...</td>\n",
       "      <td>...</td>\n",
       "      <td>...</td>\n",
       "      <td>...</td>\n",
       "    </tr>\n",
       "    <tr>\n",
       "      <th>634</th>\n",
       "      <td>2020-09-26</td>\n",
       "      <td>2509687</td>\n",
       "      <td>1580.0</td>\n",
       "      <td>15320</td>\n",
       "      <td>9292.0</td>\n",
       "      <td>96178</td>\n",
       "    </tr>\n",
       "    <tr>\n",
       "      <th>635</th>\n",
       "      <td>2020-09-27</td>\n",
       "      <td>2182679</td>\n",
       "      <td>1838.0</td>\n",
       "      <td>14135</td>\n",
       "      <td>10052.0</td>\n",
       "      <td>103494</td>\n",
       "    </tr>\n",
       "    <tr>\n",
       "      <th>636</th>\n",
       "      <td>2020-09-28</td>\n",
       "      <td>3496475</td>\n",
       "      <td>2684.0</td>\n",
       "      <td>21724</td>\n",
       "      <td>11224.0</td>\n",
       "      <td>127524</td>\n",
       "    </tr>\n",
       "    <tr>\n",
       "      <th>637</th>\n",
       "      <td>2020-09-29</td>\n",
       "      <td>4519732</td>\n",
       "      <td>3037.0</td>\n",
       "      <td>28017</td>\n",
       "      <td>11570.0</td>\n",
       "      <td>150116</td>\n",
       "    </tr>\n",
       "    <tr>\n",
       "      <th>638</th>\n",
       "      <td>2020-09-30</td>\n",
       "      <td>6240174</td>\n",
       "      <td>3848.0</td>\n",
       "      <td>38535</td>\n",
       "      <td>9685.0</td>\n",
       "      <td>150780</td>\n",
       "    </tr>\n",
       "  </tbody>\n",
       "</table>\n",
       "<p>639 rows × 6 columns</p>\n",
       "</div>"
      ],
      "text/plain": [
       "          data  receita  transacoes_blog  transacoes_site  usuarios_blog  \\\n",
       "0   2019-01-01   349184           2257.9             4693         3869.7   \n",
       "1   2019-01-02   867328           2257.9             8501         3869.7   \n",
       "2   2019-01-03   758590           2257.9             9375         3869.7   \n",
       "3   2019-01-04   688873           2257.9             8405         3869.7   \n",
       "4   2019-01-05   441760           2257.9             6136         3869.7   \n",
       "..         ...      ...              ...              ...            ...   \n",
       "634 2020-09-26  2509687           1580.0            15320         9292.0   \n",
       "635 2020-09-27  2182679           1838.0            14135        10052.0   \n",
       "636 2020-09-28  3496475           2684.0            21724        11224.0   \n",
       "637 2020-09-29  4519732           3037.0            28017        11570.0   \n",
       "638 2020-09-30  6240174           3848.0            38535         9685.0   \n",
       "\n",
       "     usuarios_site  \n",
       "0            46739  \n",
       "1            83129  \n",
       "2            86067  \n",
       "3            69363  \n",
       "4            56183  \n",
       "..             ...  \n",
       "634          96178  \n",
       "635         103494  \n",
       "636         127524  \n",
       "637         150116  \n",
       "638         150780  \n",
       "\n",
       "[639 rows x 6 columns]"
      ]
     },
     "execution_count": 83,
     "metadata": {},
     "output_type": "execute_result"
    }
   ],
   "source": [
    "df_noZeros"
   ]
  },
  {
   "cell_type": "markdown",
   "metadata": {},
   "source": [
    "receita\n",
    "\n"
   ]
  },
  {
   "cell_type": "code",
   "execution_count": 84,
   "metadata": {},
   "outputs": [
    {
     "data": {
      "text/html": [
       "<div>\n",
       "<style scoped>\n",
       "    .dataframe tbody tr th:only-of-type {\n",
       "        vertical-align: middle;\n",
       "    }\n",
       "\n",
       "    .dataframe tbody tr th {\n",
       "        vertical-align: top;\n",
       "    }\n",
       "\n",
       "    .dataframe thead th {\n",
       "        text-align: right;\n",
       "    }\n",
       "</style>\n",
       "<table border=\"1\" class=\"dataframe\">\n",
       "  <thead>\n",
       "    <tr style=\"text-align: right;\">\n",
       "      <th></th>\n",
       "      <th>data</th>\n",
       "      <th>receita</th>\n",
       "    </tr>\n",
       "  </thead>\n",
       "  <tbody>\n",
       "    <tr>\n",
       "      <th>0</th>\n",
       "      <td>2019-01-01</td>\n",
       "      <td>349184</td>\n",
       "    </tr>\n",
       "    <tr>\n",
       "      <th>1</th>\n",
       "      <td>2019-01-02</td>\n",
       "      <td>867328</td>\n",
       "    </tr>\n",
       "    <tr>\n",
       "      <th>2</th>\n",
       "      <td>2019-01-03</td>\n",
       "      <td>758590</td>\n",
       "    </tr>\n",
       "    <tr>\n",
       "      <th>3</th>\n",
       "      <td>2019-01-04</td>\n",
       "      <td>688873</td>\n",
       "    </tr>\n",
       "    <tr>\n",
       "      <th>4</th>\n",
       "      <td>2019-01-05</td>\n",
       "      <td>441760</td>\n",
       "    </tr>\n",
       "    <tr>\n",
       "      <th>...</th>\n",
       "      <td>...</td>\n",
       "      <td>...</td>\n",
       "    </tr>\n",
       "    <tr>\n",
       "      <th>634</th>\n",
       "      <td>2020-09-26</td>\n",
       "      <td>2509687</td>\n",
       "    </tr>\n",
       "    <tr>\n",
       "      <th>635</th>\n",
       "      <td>2020-09-27</td>\n",
       "      <td>2182679</td>\n",
       "    </tr>\n",
       "    <tr>\n",
       "      <th>636</th>\n",
       "      <td>2020-09-28</td>\n",
       "      <td>3496475</td>\n",
       "    </tr>\n",
       "    <tr>\n",
       "      <th>637</th>\n",
       "      <td>2020-09-29</td>\n",
       "      <td>4519732</td>\n",
       "    </tr>\n",
       "    <tr>\n",
       "      <th>638</th>\n",
       "      <td>2020-09-30</td>\n",
       "      <td>6240174</td>\n",
       "    </tr>\n",
       "  </tbody>\n",
       "</table>\n",
       "<p>639 rows × 2 columns</p>\n",
       "</div>"
      ],
      "text/plain": [
       "          data  receita\n",
       "0   2019-01-01   349184\n",
       "1   2019-01-02   867328\n",
       "2   2019-01-03   758590\n",
       "3   2019-01-04   688873\n",
       "4   2019-01-05   441760\n",
       "..         ...      ...\n",
       "634 2020-09-26  2509687\n",
       "635 2020-09-27  2182679\n",
       "636 2020-09-28  3496475\n",
       "637 2020-09-29  4519732\n",
       "638 2020-09-30  6240174\n",
       "\n",
       "[639 rows x 2 columns]"
      ]
     },
     "execution_count": 84,
     "metadata": {},
     "output_type": "execute_result"
    }
   ],
   "source": [
    "receita_TS = df_noZeros[['data','receita']]\n",
    "receita_TS"
   ]
  },
  {
   "cell_type": "markdown",
   "metadata": {},
   "source": [
    "transacoes blog"
   ]
  },
  {
   "cell_type": "code",
   "execution_count": 85,
   "metadata": {},
   "outputs": [
    {
     "data": {
      "text/html": [
       "<div>\n",
       "<style scoped>\n",
       "    .dataframe tbody tr th:only-of-type {\n",
       "        vertical-align: middle;\n",
       "    }\n",
       "\n",
       "    .dataframe tbody tr th {\n",
       "        vertical-align: top;\n",
       "    }\n",
       "\n",
       "    .dataframe thead th {\n",
       "        text-align: right;\n",
       "    }\n",
       "</style>\n",
       "<table border=\"1\" class=\"dataframe\">\n",
       "  <thead>\n",
       "    <tr style=\"text-align: right;\">\n",
       "      <th></th>\n",
       "      <th>data</th>\n",
       "      <th>transacoes_blog</th>\n",
       "    </tr>\n",
       "  </thead>\n",
       "  <tbody>\n",
       "    <tr>\n",
       "      <th>0</th>\n",
       "      <td>2019-01-01</td>\n",
       "      <td>2257.9</td>\n",
       "    </tr>\n",
       "    <tr>\n",
       "      <th>1</th>\n",
       "      <td>2019-01-02</td>\n",
       "      <td>2257.9</td>\n",
       "    </tr>\n",
       "    <tr>\n",
       "      <th>2</th>\n",
       "      <td>2019-01-03</td>\n",
       "      <td>2257.9</td>\n",
       "    </tr>\n",
       "    <tr>\n",
       "      <th>3</th>\n",
       "      <td>2019-01-04</td>\n",
       "      <td>2257.9</td>\n",
       "    </tr>\n",
       "    <tr>\n",
       "      <th>4</th>\n",
       "      <td>2019-01-05</td>\n",
       "      <td>2257.9</td>\n",
       "    </tr>\n",
       "    <tr>\n",
       "      <th>...</th>\n",
       "      <td>...</td>\n",
       "      <td>...</td>\n",
       "    </tr>\n",
       "    <tr>\n",
       "      <th>634</th>\n",
       "      <td>2020-09-26</td>\n",
       "      <td>1580.0</td>\n",
       "    </tr>\n",
       "    <tr>\n",
       "      <th>635</th>\n",
       "      <td>2020-09-27</td>\n",
       "      <td>1838.0</td>\n",
       "    </tr>\n",
       "    <tr>\n",
       "      <th>636</th>\n",
       "      <td>2020-09-28</td>\n",
       "      <td>2684.0</td>\n",
       "    </tr>\n",
       "    <tr>\n",
       "      <th>637</th>\n",
       "      <td>2020-09-29</td>\n",
       "      <td>3037.0</td>\n",
       "    </tr>\n",
       "    <tr>\n",
       "      <th>638</th>\n",
       "      <td>2020-09-30</td>\n",
       "      <td>3848.0</td>\n",
       "    </tr>\n",
       "  </tbody>\n",
       "</table>\n",
       "<p>639 rows × 2 columns</p>\n",
       "</div>"
      ],
      "text/plain": [
       "          data  transacoes_blog\n",
       "0   2019-01-01           2257.9\n",
       "1   2019-01-02           2257.9\n",
       "2   2019-01-03           2257.9\n",
       "3   2019-01-04           2257.9\n",
       "4   2019-01-05           2257.9\n",
       "..         ...              ...\n",
       "634 2020-09-26           1580.0\n",
       "635 2020-09-27           1838.0\n",
       "636 2020-09-28           2684.0\n",
       "637 2020-09-29           3037.0\n",
       "638 2020-09-30           3848.0\n",
       "\n",
       "[639 rows x 2 columns]"
      ]
     },
     "execution_count": 85,
     "metadata": {},
     "output_type": "execute_result"
    }
   ],
   "source": [
    "transacoes_blog_TS = df_noZeros[['data','transacoes_blog']]\n",
    "transacoes_blog_TS"
   ]
  },
  {
   "cell_type": "markdown",
   "metadata": {},
   "source": [
    "usuarios blog"
   ]
  },
  {
   "cell_type": "code",
   "execution_count": 86,
   "metadata": {},
   "outputs": [
    {
     "data": {
      "text/html": [
       "<div>\n",
       "<style scoped>\n",
       "    .dataframe tbody tr th:only-of-type {\n",
       "        vertical-align: middle;\n",
       "    }\n",
       "\n",
       "    .dataframe tbody tr th {\n",
       "        vertical-align: top;\n",
       "    }\n",
       "\n",
       "    .dataframe thead th {\n",
       "        text-align: right;\n",
       "    }\n",
       "</style>\n",
       "<table border=\"1\" class=\"dataframe\">\n",
       "  <thead>\n",
       "    <tr style=\"text-align: right;\">\n",
       "      <th></th>\n",
       "      <th>data</th>\n",
       "      <th>usuarios_blog</th>\n",
       "    </tr>\n",
       "  </thead>\n",
       "  <tbody>\n",
       "    <tr>\n",
       "      <th>0</th>\n",
       "      <td>2019-01-01</td>\n",
       "      <td>3869.7</td>\n",
       "    </tr>\n",
       "    <tr>\n",
       "      <th>1</th>\n",
       "      <td>2019-01-02</td>\n",
       "      <td>3869.7</td>\n",
       "    </tr>\n",
       "    <tr>\n",
       "      <th>2</th>\n",
       "      <td>2019-01-03</td>\n",
       "      <td>3869.7</td>\n",
       "    </tr>\n",
       "    <tr>\n",
       "      <th>3</th>\n",
       "      <td>2019-01-04</td>\n",
       "      <td>3869.7</td>\n",
       "    </tr>\n",
       "    <tr>\n",
       "      <th>4</th>\n",
       "      <td>2019-01-05</td>\n",
       "      <td>3869.7</td>\n",
       "    </tr>\n",
       "    <tr>\n",
       "      <th>...</th>\n",
       "      <td>...</td>\n",
       "      <td>...</td>\n",
       "    </tr>\n",
       "    <tr>\n",
       "      <th>634</th>\n",
       "      <td>2020-09-26</td>\n",
       "      <td>9292.0</td>\n",
       "    </tr>\n",
       "    <tr>\n",
       "      <th>635</th>\n",
       "      <td>2020-09-27</td>\n",
       "      <td>10052.0</td>\n",
       "    </tr>\n",
       "    <tr>\n",
       "      <th>636</th>\n",
       "      <td>2020-09-28</td>\n",
       "      <td>11224.0</td>\n",
       "    </tr>\n",
       "    <tr>\n",
       "      <th>637</th>\n",
       "      <td>2020-09-29</td>\n",
       "      <td>11570.0</td>\n",
       "    </tr>\n",
       "    <tr>\n",
       "      <th>638</th>\n",
       "      <td>2020-09-30</td>\n",
       "      <td>9685.0</td>\n",
       "    </tr>\n",
       "  </tbody>\n",
       "</table>\n",
       "<p>639 rows × 2 columns</p>\n",
       "</div>"
      ],
      "text/plain": [
       "          data  usuarios_blog\n",
       "0   2019-01-01         3869.7\n",
       "1   2019-01-02         3869.7\n",
       "2   2019-01-03         3869.7\n",
       "3   2019-01-04         3869.7\n",
       "4   2019-01-05         3869.7\n",
       "..         ...            ...\n",
       "634 2020-09-26         9292.0\n",
       "635 2020-09-27        10052.0\n",
       "636 2020-09-28        11224.0\n",
       "637 2020-09-29        11570.0\n",
       "638 2020-09-30         9685.0\n",
       "\n",
       "[639 rows x 2 columns]"
      ]
     },
     "execution_count": 86,
     "metadata": {},
     "output_type": "execute_result"
    }
   ],
   "source": [
    "usuarios_blog_TS = df_noZeros[['data','usuarios_blog']]\n",
    "usuarios_blog_TS"
   ]
  },
  {
   "cell_type": "markdown",
   "metadata": {},
   "source": [
    "transacoes site"
   ]
  },
  {
   "cell_type": "code",
   "execution_count": 87,
   "metadata": {},
   "outputs": [
    {
     "data": {
      "text/html": [
       "<div>\n",
       "<style scoped>\n",
       "    .dataframe tbody tr th:only-of-type {\n",
       "        vertical-align: middle;\n",
       "    }\n",
       "\n",
       "    .dataframe tbody tr th {\n",
       "        vertical-align: top;\n",
       "    }\n",
       "\n",
       "    .dataframe thead th {\n",
       "        text-align: right;\n",
       "    }\n",
       "</style>\n",
       "<table border=\"1\" class=\"dataframe\">\n",
       "  <thead>\n",
       "    <tr style=\"text-align: right;\">\n",
       "      <th></th>\n",
       "      <th>data</th>\n",
       "      <th>transacoes_site</th>\n",
       "    </tr>\n",
       "  </thead>\n",
       "  <tbody>\n",
       "    <tr>\n",
       "      <th>0</th>\n",
       "      <td>2019-01-01</td>\n",
       "      <td>4693</td>\n",
       "    </tr>\n",
       "    <tr>\n",
       "      <th>1</th>\n",
       "      <td>2019-01-02</td>\n",
       "      <td>8501</td>\n",
       "    </tr>\n",
       "    <tr>\n",
       "      <th>2</th>\n",
       "      <td>2019-01-03</td>\n",
       "      <td>9375</td>\n",
       "    </tr>\n",
       "    <tr>\n",
       "      <th>3</th>\n",
       "      <td>2019-01-04</td>\n",
       "      <td>8405</td>\n",
       "    </tr>\n",
       "    <tr>\n",
       "      <th>4</th>\n",
       "      <td>2019-01-05</td>\n",
       "      <td>6136</td>\n",
       "    </tr>\n",
       "    <tr>\n",
       "      <th>...</th>\n",
       "      <td>...</td>\n",
       "      <td>...</td>\n",
       "    </tr>\n",
       "    <tr>\n",
       "      <th>634</th>\n",
       "      <td>2020-09-26</td>\n",
       "      <td>15320</td>\n",
       "    </tr>\n",
       "    <tr>\n",
       "      <th>635</th>\n",
       "      <td>2020-09-27</td>\n",
       "      <td>14135</td>\n",
       "    </tr>\n",
       "    <tr>\n",
       "      <th>636</th>\n",
       "      <td>2020-09-28</td>\n",
       "      <td>21724</td>\n",
       "    </tr>\n",
       "    <tr>\n",
       "      <th>637</th>\n",
       "      <td>2020-09-29</td>\n",
       "      <td>28017</td>\n",
       "    </tr>\n",
       "    <tr>\n",
       "      <th>638</th>\n",
       "      <td>2020-09-30</td>\n",
       "      <td>38535</td>\n",
       "    </tr>\n",
       "  </tbody>\n",
       "</table>\n",
       "<p>639 rows × 2 columns</p>\n",
       "</div>"
      ],
      "text/plain": [
       "          data  transacoes_site\n",
       "0   2019-01-01             4693\n",
       "1   2019-01-02             8501\n",
       "2   2019-01-03             9375\n",
       "3   2019-01-04             8405\n",
       "4   2019-01-05             6136\n",
       "..         ...              ...\n",
       "634 2020-09-26            15320\n",
       "635 2020-09-27            14135\n",
       "636 2020-09-28            21724\n",
       "637 2020-09-29            28017\n",
       "638 2020-09-30            38535\n",
       "\n",
       "[639 rows x 2 columns]"
      ]
     },
     "execution_count": 87,
     "metadata": {},
     "output_type": "execute_result"
    }
   ],
   "source": [
    "transacoes_site_TS = df_noZeros[['data','transacoes_site']]\n",
    "transacoes_site_TS"
   ]
  },
  {
   "cell_type": "markdown",
   "metadata": {},
   "source": [
    "usuarios site"
   ]
  },
  {
   "cell_type": "code",
   "execution_count": 88,
   "metadata": {},
   "outputs": [
    {
     "data": {
      "text/html": [
       "<div>\n",
       "<style scoped>\n",
       "    .dataframe tbody tr th:only-of-type {\n",
       "        vertical-align: middle;\n",
       "    }\n",
       "\n",
       "    .dataframe tbody tr th {\n",
       "        vertical-align: top;\n",
       "    }\n",
       "\n",
       "    .dataframe thead th {\n",
       "        text-align: right;\n",
       "    }\n",
       "</style>\n",
       "<table border=\"1\" class=\"dataframe\">\n",
       "  <thead>\n",
       "    <tr style=\"text-align: right;\">\n",
       "      <th></th>\n",
       "      <th>data</th>\n",
       "      <th>usuarios_site</th>\n",
       "    </tr>\n",
       "  </thead>\n",
       "  <tbody>\n",
       "    <tr>\n",
       "      <th>0</th>\n",
       "      <td>2019-01-01</td>\n",
       "      <td>46739</td>\n",
       "    </tr>\n",
       "    <tr>\n",
       "      <th>1</th>\n",
       "      <td>2019-01-02</td>\n",
       "      <td>83129</td>\n",
       "    </tr>\n",
       "    <tr>\n",
       "      <th>2</th>\n",
       "      <td>2019-01-03</td>\n",
       "      <td>86067</td>\n",
       "    </tr>\n",
       "    <tr>\n",
       "      <th>3</th>\n",
       "      <td>2019-01-04</td>\n",
       "      <td>69363</td>\n",
       "    </tr>\n",
       "    <tr>\n",
       "      <th>4</th>\n",
       "      <td>2019-01-05</td>\n",
       "      <td>56183</td>\n",
       "    </tr>\n",
       "    <tr>\n",
       "      <th>...</th>\n",
       "      <td>...</td>\n",
       "      <td>...</td>\n",
       "    </tr>\n",
       "    <tr>\n",
       "      <th>634</th>\n",
       "      <td>2020-09-26</td>\n",
       "      <td>96178</td>\n",
       "    </tr>\n",
       "    <tr>\n",
       "      <th>635</th>\n",
       "      <td>2020-09-27</td>\n",
       "      <td>103494</td>\n",
       "    </tr>\n",
       "    <tr>\n",
       "      <th>636</th>\n",
       "      <td>2020-09-28</td>\n",
       "      <td>127524</td>\n",
       "    </tr>\n",
       "    <tr>\n",
       "      <th>637</th>\n",
       "      <td>2020-09-29</td>\n",
       "      <td>150116</td>\n",
       "    </tr>\n",
       "    <tr>\n",
       "      <th>638</th>\n",
       "      <td>2020-09-30</td>\n",
       "      <td>150780</td>\n",
       "    </tr>\n",
       "  </tbody>\n",
       "</table>\n",
       "<p>639 rows × 2 columns</p>\n",
       "</div>"
      ],
      "text/plain": [
       "          data  usuarios_site\n",
       "0   2019-01-01          46739\n",
       "1   2019-01-02          83129\n",
       "2   2019-01-03          86067\n",
       "3   2019-01-04          69363\n",
       "4   2019-01-05          56183\n",
       "..         ...            ...\n",
       "634 2020-09-26          96178\n",
       "635 2020-09-27         103494\n",
       "636 2020-09-28         127524\n",
       "637 2020-09-29         150116\n",
       "638 2020-09-30         150780\n",
       "\n",
       "[639 rows x 2 columns]"
      ]
     },
     "execution_count": 88,
     "metadata": {},
     "output_type": "execute_result"
    }
   ],
   "source": [
    "usuarios_site_TS = df_noZeros[['data','usuarios_site']]\n",
    "usuarios_site_TS"
   ]
  },
  {
   "cell_type": "markdown",
   "metadata": {},
   "source": [
    ".set_index('DateTime').sort_index()"
   ]
  },
  {
   "cell_type": "markdown",
   "metadata": {},
   "source": [
    "definindo funções"
   ]
  },
  {
   "cell_type": "markdown",
   "metadata": {},
   "source": [
    "# Prevendo a receita"
   ]
  },
  {
   "cell_type": "code",
   "execution_count": 89,
   "metadata": {},
   "outputs": [
    {
     "data": {
      "text/html": [
       "<div>\n",
       "<style scoped>\n",
       "    .dataframe tbody tr th:only-of-type {\n",
       "        vertical-align: middle;\n",
       "    }\n",
       "\n",
       "    .dataframe tbody tr th {\n",
       "        vertical-align: top;\n",
       "    }\n",
       "\n",
       "    .dataframe thead th {\n",
       "        text-align: right;\n",
       "    }\n",
       "</style>\n",
       "<table border=\"1\" class=\"dataframe\">\n",
       "  <thead>\n",
       "    <tr style=\"text-align: right;\">\n",
       "      <th></th>\n",
       "      <th>receita</th>\n",
       "    </tr>\n",
       "    <tr>\n",
       "      <th>data</th>\n",
       "      <th></th>\n",
       "    </tr>\n",
       "  </thead>\n",
       "  <tbody>\n",
       "    <tr>\n",
       "      <th>2019-01-01</th>\n",
       "      <td>349184</td>\n",
       "    </tr>\n",
       "    <tr>\n",
       "      <th>2019-01-02</th>\n",
       "      <td>867328</td>\n",
       "    </tr>\n",
       "    <tr>\n",
       "      <th>2019-01-03</th>\n",
       "      <td>758590</td>\n",
       "    </tr>\n",
       "    <tr>\n",
       "      <th>2019-01-04</th>\n",
       "      <td>688873</td>\n",
       "    </tr>\n",
       "    <tr>\n",
       "      <th>2019-01-05</th>\n",
       "      <td>441760</td>\n",
       "    </tr>\n",
       "    <tr>\n",
       "      <th>...</th>\n",
       "      <td>...</td>\n",
       "    </tr>\n",
       "    <tr>\n",
       "      <th>2020-09-26</th>\n",
       "      <td>2509687</td>\n",
       "    </tr>\n",
       "    <tr>\n",
       "      <th>2020-09-27</th>\n",
       "      <td>2182679</td>\n",
       "    </tr>\n",
       "    <tr>\n",
       "      <th>2020-09-28</th>\n",
       "      <td>3496475</td>\n",
       "    </tr>\n",
       "    <tr>\n",
       "      <th>2020-09-29</th>\n",
       "      <td>4519732</td>\n",
       "    </tr>\n",
       "    <tr>\n",
       "      <th>2020-09-30</th>\n",
       "      <td>6240174</td>\n",
       "    </tr>\n",
       "  </tbody>\n",
       "</table>\n",
       "<p>639 rows × 1 columns</p>\n",
       "</div>"
      ],
      "text/plain": [
       "            receita\n",
       "data               \n",
       "2019-01-01   349184\n",
       "2019-01-02   867328\n",
       "2019-01-03   758590\n",
       "2019-01-04   688873\n",
       "2019-01-05   441760\n",
       "...             ...\n",
       "2020-09-26  2509687\n",
       "2020-09-27  2182679\n",
       "2020-09-28  3496475\n",
       "2020-09-29  4519732\n",
       "2020-09-30  6240174\n",
       "\n",
       "[639 rows x 1 columns]"
      ]
     },
     "execution_count": 89,
     "metadata": {},
     "output_type": "execute_result"
    }
   ],
   "source": [
    "receita_TS = receita_TS.set_index('data').sort_index()\n",
    "receita_TS"
   ]
  },
  {
   "cell_type": "markdown",
   "metadata": {},
   "source": [
    "teste de hipoteses da receita"
   ]
  },
  {
   "cell_type": "code",
   "execution_count": 136,
   "metadata": {},
   "outputs": [],
   "source": [
    "from scipy.stats import normaltest\n",
    "sig = 0.05"
   ]
  },
  {
   "cell_type": "code",
   "execution_count": 144,
   "metadata": {},
   "outputs": [
    {
     "data": {
      "text/plain": [
       "NormaltestResult(statistic=376.4558971365377, pvalue=1.7932489979653222e-82)"
      ]
     },
     "execution_count": 144,
     "metadata": {},
     "output_type": "execute_result"
    }
   ],
   "source": [
    "normaltest(receita_TS.receita)"
   ]
  },
  {
   "cell_type": "markdown",
   "metadata": {},
   "source": [
    "H0: temos uma distribuição normal<br/>\n",
    "H1: distribuição não é normal"
   ]
  },
  {
   "cell_type": "code",
   "execution_count": 155,
   "metadata": {},
   "outputs": [
    {
     "data": {
      "image/png": "[encoded data removed]",
      "text/plain": [
       "<Figure size 432x288 with 1 Axes>"
      ]
     },
     "metadata": {
      "needs_background": "light"
     },
     "output_type": "display_data"
    }
   ],
   "source": [
    "receita_TS.receita.hist(bins=50);"
   ]
  },
  {
   "cell_type": "code",
   "execution_count": 151,
   "metadata": {},
   "outputs": [
    {
     "name": "stdout",
     "output_type": "stream",
     "text": [
      "376.4558971365377\n",
      "1.7932489979653222e-82\n"
     ]
    }
   ],
   "source": [
    "stat_test, p_valor = normaltest(receita_TS.receita)\n",
    "print(stat_test)\n",
    "print(p_valor)\n",
    "\n"
   ]
  },
  {
   "cell_type": "code",
   "execution_count": 157,
   "metadata": {},
   "outputs": [
    {
     "name": "stdout",
     "output_type": "stream",
     "text": [
      "A Hipótese Nula pode ser rejeitada\n"
     ]
    }
   ],
   "source": [
    "if p_valor < sig:\n",
    "    print(\"A Hipótese Nula pode ser rejeitada\")\n",
    "else:\n",
    "    print(\"A hipótese nula não pode ser rejeitada\")"
   ]
  },
  {
   "cell_type": "markdown",
   "metadata": {},
   "source": [
    "logo afirmamos que não temos uma distribuição na receita."
   ]
  },
  {
   "cell_type": "code",
   "execution_count": 90,
   "metadata": {},
   "outputs": [
    {
     "data": {
      "image/png": "[encoded data removed]",
      "text/plain": [
       "<Figure size 1080x540 with 1 Axes>"
      ]
     },
     "metadata": {
      "needs_background": "light"
     },
     "output_type": "display_data"
    }
   ],
   "source": [
    "fig, ax = plt.subplots(figsize=(15,7.5))\n",
    "receita_TS.resample('D').sum().plot(ax=ax)\n",
    "plt.show()"
   ]
  },
  {
   "cell_type": "code",
   "execution_count": 93,
   "metadata": {},
   "outputs": [],
   "source": [
    "base_line = receita_TS.shift(1)"
   ]
  },
  {
   "cell_type": "code",
   "execution_count": 94,
   "metadata": {},
   "outputs": [
    {
     "data": {
      "text/html": [
       "<div>\n",
       "<style scoped>\n",
       "    .dataframe tbody tr th:only-of-type {\n",
       "        vertical-align: middle;\n",
       "    }\n",
       "\n",
       "    .dataframe tbody tr th {\n",
       "        vertical-align: top;\n",
       "    }\n",
       "\n",
       "    .dataframe thead th {\n",
       "        text-align: right;\n",
       "    }\n",
       "</style>\n",
       "<table border=\"1\" class=\"dataframe\">\n",
       "  <thead>\n",
       "    <tr style=\"text-align: right;\">\n",
       "      <th></th>\n",
       "      <th>receita</th>\n",
       "    </tr>\n",
       "    <tr>\n",
       "      <th>data</th>\n",
       "      <th></th>\n",
       "    </tr>\n",
       "  </thead>\n",
       "  <tbody>\n",
       "    <tr>\n",
       "      <th>2019-01-01</th>\n",
       "      <td>NaN</td>\n",
       "    </tr>\n",
       "    <tr>\n",
       "      <th>2019-01-02</th>\n",
       "      <td>349184.0</td>\n",
       "    </tr>\n",
       "    <tr>\n",
       "      <th>2019-01-03</th>\n",
       "      <td>867328.0</td>\n",
       "    </tr>\n",
       "    <tr>\n",
       "      <th>2019-01-04</th>\n",
       "      <td>758590.0</td>\n",
       "    </tr>\n",
       "    <tr>\n",
       "      <th>2019-01-05</th>\n",
       "      <td>688873.0</td>\n",
       "    </tr>\n",
       "    <tr>\n",
       "      <th>...</th>\n",
       "      <td>...</td>\n",
       "    </tr>\n",
       "    <tr>\n",
       "      <th>2020-09-26</th>\n",
       "      <td>3320034.0</td>\n",
       "    </tr>\n",
       "    <tr>\n",
       "      <th>2020-09-27</th>\n",
       "      <td>2509687.0</td>\n",
       "    </tr>\n",
       "    <tr>\n",
       "      <th>2020-09-28</th>\n",
       "      <td>2182679.0</td>\n",
       "    </tr>\n",
       "    <tr>\n",
       "      <th>2020-09-29</th>\n",
       "      <td>3496475.0</td>\n",
       "    </tr>\n",
       "    <tr>\n",
       "      <th>2020-09-30</th>\n",
       "      <td>4519732.0</td>\n",
       "    </tr>\n",
       "  </tbody>\n",
       "</table>\n",
       "<p>639 rows × 1 columns</p>\n",
       "</div>"
      ],
      "text/plain": [
       "              receita\n",
       "data                 \n",
       "2019-01-01        NaN\n",
       "2019-01-02   349184.0\n",
       "2019-01-03   867328.0\n",
       "2019-01-04   758590.0\n",
       "2019-01-05   688873.0\n",
       "...               ...\n",
       "2020-09-26  3320034.0\n",
       "2020-09-27  2509687.0\n",
       "2020-09-28  2182679.0\n",
       "2020-09-29  3496475.0\n",
       "2020-09-30  4519732.0\n",
       "\n",
       "[639 rows x 1 columns]"
      ]
     },
     "execution_count": 94,
     "metadata": {},
     "output_type": "execute_result"
    }
   ],
   "source": [
    "base_line"
   ]
  },
  {
   "cell_type": "code",
   "execution_count": 97,
   "metadata": {},
   "outputs": [],
   "source": [
    "base_line.replace(np.nan,0, inplace=True)"
   ]
  },
  {
   "cell_type": "code",
   "execution_count": 100,
   "metadata": {},
   "outputs": [],
   "source": [
    "from sklearn.metrics import mean_squared_error, median_absolute_error"
   ]
  },
  {
   "cell_type": "code",
   "execution_count": 130,
   "metadata": {},
   "outputs": [
    {
     "name": "stdout",
     "output_type": "stream",
     "text": [
      "Test MSE: 335142787669.380\n",
      "Test MAE: 234147.000\n"
     ]
    }
   ],
   "source": [
    "baseline_score_mse = mean_squared_error(receita_TS, base_line)\n",
    "baseline_score_mae = median_absolute_error(receita_TS, base_line)\n",
    "\n",
    "print('Test MSE: %.3f' % baseline_score_mse)\n",
    "print('Test MAE: %.3f' % baseline_score_mae)"
   ]
  },
  {
   "cell_type": "markdown",
   "metadata": {},
   "source": [
    "preprocessamento para o modelo"
   ]
  },
  {
   "cell_type": "code",
   "execution_count": 112,
   "metadata": {},
   "outputs": [],
   "source": [
    "from prophet import Prophet"
   ]
  },
  {
   "cell_type": "code",
   "execution_count": 104,
   "metadata": {},
   "outputs": [],
   "source": [
    "prophet_df = receita_TS.resample('D').sum().reset_index().rename(columns = {'data':'ds', 'receita':'y'})"
   ]
  },
  {
   "cell_type": "code",
   "execution_count": 108,
   "metadata": {},
   "outputs": [
    {
     "data": {
      "text/plain": [
       "447.29999999999995"
      ]
     },
     "execution_count": 108,
     "metadata": {},
     "output_type": "execute_result"
    }
   ],
   "source": [
    "len(prophet_df)*0.7"
   ]
  },
  {
   "cell_type": "code",
   "execution_count": 110,
   "metadata": {},
   "outputs": [],
   "source": [
    "treino = prophet_df[:447]"
   ]
  },
  {
   "cell_type": "markdown",
   "metadata": {},
   "source": [
    "#### modelo diario"
   ]
  },
  {
   "cell_type": "code",
   "execution_count": 113,
   "metadata": {},
   "outputs": [
    {
     "name": "stderr",
     "output_type": "stream",
     "text": [
      "INFO:prophet:Disabling yearly seasonality. Run prophet with yearly_seasonality=True to override this.\n",
      "INFO:prophet:Disabling daily seasonality. Run prophet with daily_seasonality=True to override this.\n"
     ]
    }
   ],
   "source": [
    "# instanciando, adicionando os feriados e treinando o modelo\n",
    "model = Prophet()\n",
    "model.add_country_holidays(country_name='BR')\n",
    "model.fit(treino)\n",
    "\n",
    "#periodo da previsão\n",
    "future = model.make_future_dataframe(periods = 365)\n",
    "\n",
    "#realizar a previsão para o período estabelecido\n",
    "forecast = model.predict(future)"
   ]
  },
  {
   "cell_type": "code",
   "execution_count": 114,
   "metadata": {},
   "outputs": [
    {
     "data": {
      "image/png": "[encoded data removed]",
      "text/plain": [
       "<Figure size 720x432 with 1 Axes>"
      ]
     },
     "metadata": {},
     "output_type": "display_data"
    }
   ],
   "source": [
    "model.plot(forecast, xlabel='Data', ylabel='Receita');"
   ]
  },
  {
   "cell_type": "code",
   "execution_count": 115,
   "metadata": {},
   "outputs": [
    {
     "data": {
      "image/png": "[encoded data removed]",
      "text/plain": [
       "<Figure size 648x648 with 3 Axes>"
      ]
     },
     "metadata": {},
     "output_type": "display_data"
    }
   ],
   "source": [
    "# separar os componentes do modelo\n",
    "model.plot_components(forecast);"
   ]
  },
  {
   "cell_type": "markdown",
   "metadata": {},
   "source": [
    "#### modelo semanal"
   ]
  },
  {
   "cell_type": "code",
   "execution_count": 116,
   "metadata": {},
   "outputs": [
    {
     "name": "stderr",
     "output_type": "stream",
     "text": [
      "INFO:prophet:Disabling yearly seasonality. Run prophet with yearly_seasonality=True to override this.\n",
      "INFO:prophet:Disabling weekly seasonality. Run prophet with weekly_seasonality=True to override this.\n",
      "INFO:prophet:Disabling daily seasonality. Run prophet with daily_seasonality=True to override this.\n"
     ]
    }
   ],
   "source": [
    "prophet_df2 = receita_TS.resample('W').sum().reset_index().rename(columns = {'data':'ds', 'receita':'y'})\n",
    "treino2 = prophet_df2[:447]\n",
    "model2 = Prophet()\n",
    "model2.add_country_holidays(country_name='BR')\n",
    "model2.fit(treino2)\n",
    "\n",
    "#periodo da previsão\n",
    "future2 = model2.make_future_dataframe(periods = 52)\n",
    "\n",
    "#realizar a previsão para o período estabelecido\n",
    "forecast2 = model2.predict(future2)"
   ]
  },
  {
   "cell_type": "code",
   "execution_count": 117,
   "metadata": {},
   "outputs": [
    {
     "data": {
      "image/png": "[encoded data removed]",
      "text/plain": [
       "<Figure size 720x432 with 1 Axes>"
      ]
     },
     "metadata": {},
     "output_type": "display_data"
    }
   ],
   "source": [
    "# visualizar o gráfico com as previsões\n",
    "model2.plot(forecast2, xlabel='Data', ylabel='Receita semanal');"
   ]
  },
  {
   "cell_type": "code",
   "execution_count": 118,
   "metadata": {},
   "outputs": [
    {
     "data": {
      "image/png": "[encoded data removed]",
      "text/plain": [
       "<Figure size 648x432 with 2 Axes>"
      ]
     },
     "metadata": {},
     "output_type": "display_data"
    }
   ],
   "source": [
    "# separar os componentes do modelo\n",
    "model2.plot_components(forecast2);"
   ]
  },
  {
   "cell_type": "markdown",
   "metadata": {},
   "source": [
    "### Avaliação do modelo diario"
   ]
  },
  {
   "cell_type": "code",
   "execution_count": 120,
   "metadata": {},
   "outputs": [
    {
     "name": "stderr",
     "output_type": "stream",
     "text": [
      "INFO:prophet:Making 22 forecasts with cutoffs between 2019-04-12 00:00:00 and 2020-02-21 00:00:00\n"
     ]
    },
    {
     "data": {
      "application/vnd.jupyter.widget-view+json": {
       "model_id": "91e847b46eec408d898a244adfb9558c",
       "version_major": 2,
       "version_minor": 0
      },
      "text/plain": [
       "  0%|          | 0/22 [00:00<?, ?it/s]"
      ]
     },
     "metadata": {},
     "output_type": "display_data"
    },
    {
     "data": {
      "text/html": [
       "<div>\n",
       "<style scoped>\n",
       "    .dataframe tbody tr th:only-of-type {\n",
       "        vertical-align: middle;\n",
       "    }\n",
       "\n",
       "    .dataframe tbody tr th {\n",
       "        vertical-align: top;\n",
       "    }\n",
       "\n",
       "    .dataframe thead th {\n",
       "        text-align: right;\n",
       "    }\n",
       "</style>\n",
       "<table border=\"1\" class=\"dataframe\">\n",
       "  <thead>\n",
       "    <tr style=\"text-align: right;\">\n",
       "      <th></th>\n",
       "      <th>ds</th>\n",
       "      <th>yhat</th>\n",
       "      <th>yhat_lower</th>\n",
       "      <th>yhat_upper</th>\n",
       "      <th>y</th>\n",
       "      <th>cutoff</th>\n",
       "    </tr>\n",
       "  </thead>\n",
       "  <tbody>\n",
       "    <tr>\n",
       "      <th>0</th>\n",
       "      <td>2019-04-13</td>\n",
       "      <td>564902.866133</td>\n",
       "      <td>87146.135210</td>\n",
       "      <td>1.059456e+06</td>\n",
       "      <td>420450</td>\n",
       "      <td>2019-04-12</td>\n",
       "    </tr>\n",
       "    <tr>\n",
       "      <th>1</th>\n",
       "      <td>2019-04-14</td>\n",
       "      <td>482276.868363</td>\n",
       "      <td>8655.034883</td>\n",
       "      <td>9.539208e+05</td>\n",
       "      <td>585911</td>\n",
       "      <td>2019-04-12</td>\n",
       "    </tr>\n",
       "    <tr>\n",
       "      <th>2</th>\n",
       "      <td>2019-04-15</td>\n",
       "      <td>641614.575305</td>\n",
       "      <td>171181.128164</td>\n",
       "      <td>1.158262e+06</td>\n",
       "      <td>493451</td>\n",
       "      <td>2019-04-12</td>\n",
       "    </tr>\n",
       "    <tr>\n",
       "      <th>3</th>\n",
       "      <td>2019-04-16</td>\n",
       "      <td>689459.912246</td>\n",
       "      <td>227403.700213</td>\n",
       "      <td>1.155409e+06</td>\n",
       "      <td>764866</td>\n",
       "      <td>2019-04-12</td>\n",
       "    </tr>\n",
       "    <tr>\n",
       "      <th>4</th>\n",
       "      <td>2019-04-17</td>\n",
       "      <td>790731.673753</td>\n",
       "      <td>301121.932400</td>\n",
       "      <td>1.266105e+06</td>\n",
       "      <td>439002</td>\n",
       "      <td>2019-04-12</td>\n",
       "    </tr>\n",
       "  </tbody>\n",
       "</table>\n",
       "</div>"
      ],
      "text/plain": [
       "          ds           yhat     yhat_lower    yhat_upper       y     cutoff\n",
       "0 2019-04-13  564902.866133   87146.135210  1.059456e+06  420450 2019-04-12\n",
       "1 2019-04-14  482276.868363    8655.034883  9.539208e+05  585911 2019-04-12\n",
       "2 2019-04-15  641614.575305  171181.128164  1.158262e+06  493451 2019-04-12\n",
       "3 2019-04-16  689459.912246  227403.700213  1.155409e+06  764866 2019-04-12\n",
       "4 2019-04-17  790731.673753  301121.932400  1.266105e+06  439002 2019-04-12"
      ]
     },
     "execution_count": 120,
     "metadata": {},
     "output_type": "execute_result"
    }
   ],
   "source": [
    "from prophet.diagnostics import cross_validation\n",
    "df_cv = cross_validation(model, horizon = '30 days')\n",
    "df_cv.head()"
   ]
  },
  {
   "cell_type": "code",
   "execution_count": 121,
   "metadata": {},
   "outputs": [
    {
     "data": {
      "text/html": [
       "<div>\n",
       "<style scoped>\n",
       "    .dataframe tbody tr th:only-of-type {\n",
       "        vertical-align: middle;\n",
       "    }\n",
       "\n",
       "    .dataframe tbody tr th {\n",
       "        vertical-align: top;\n",
       "    }\n",
       "\n",
       "    .dataframe thead th {\n",
       "        text-align: right;\n",
       "    }\n",
       "</style>\n",
       "<table border=\"1\" class=\"dataframe\">\n",
       "  <thead>\n",
       "    <tr style=\"text-align: right;\">\n",
       "      <th></th>\n",
       "      <th>horizon</th>\n",
       "      <th>mse</th>\n",
       "      <th>rmse</th>\n",
       "      <th>mae</th>\n",
       "      <th>mape</th>\n",
       "      <th>mdape</th>\n",
       "      <th>smape</th>\n",
       "      <th>coverage</th>\n",
       "    </tr>\n",
       "  </thead>\n",
       "  <tbody>\n",
       "    <tr>\n",
       "      <th>0</th>\n",
       "      <td>3 days</td>\n",
       "      <td>8.150465e+11</td>\n",
       "      <td>9.027993e+05</td>\n",
       "      <td>600921.148031</td>\n",
       "      <td>0.852051</td>\n",
       "      <td>0.352393</td>\n",
       "      <td>0.478580</td>\n",
       "      <td>0.696970</td>\n",
       "    </tr>\n",
       "    <tr>\n",
       "      <th>1</th>\n",
       "      <td>4 days</td>\n",
       "      <td>8.328557e+11</td>\n",
       "      <td>9.126093e+05</td>\n",
       "      <td>632484.022704</td>\n",
       "      <td>0.788429</td>\n",
       "      <td>0.369946</td>\n",
       "      <td>0.493505</td>\n",
       "      <td>0.712121</td>\n",
       "    </tr>\n",
       "    <tr>\n",
       "      <th>2</th>\n",
       "      <td>5 days</td>\n",
       "      <td>1.498110e+12</td>\n",
       "      <td>1.223973e+06</td>\n",
       "      <td>740668.116543</td>\n",
       "      <td>0.676180</td>\n",
       "      <td>0.420328</td>\n",
       "      <td>0.521004</td>\n",
       "      <td>0.696970</td>\n",
       "    </tr>\n",
       "    <tr>\n",
       "      <th>3</th>\n",
       "      <td>6 days</td>\n",
       "      <td>3.061828e+12</td>\n",
       "      <td>1.749808e+06</td>\n",
       "      <td>894436.471969</td>\n",
       "      <td>0.697424</td>\n",
       "      <td>0.420328</td>\n",
       "      <td>0.552882</td>\n",
       "      <td>0.681818</td>\n",
       "    </tr>\n",
       "    <tr>\n",
       "      <th>4</th>\n",
       "      <td>7 days</td>\n",
       "      <td>3.254323e+12</td>\n",
       "      <td>1.803974e+06</td>\n",
       "      <td>941452.322089</td>\n",
       "      <td>0.714643</td>\n",
       "      <td>0.465481</td>\n",
       "      <td>0.600131</td>\n",
       "      <td>0.651515</td>\n",
       "    </tr>\n",
       "  </tbody>\n",
       "</table>\n",
       "</div>"
      ],
      "text/plain": [
       "  horizon           mse          rmse            mae      mape     mdape  \\\n",
       "0  3 days  8.150465e+11  9.027993e+05  600921.148031  0.852051  0.352393   \n",
       "1  4 days  8.328557e+11  9.126093e+05  632484.022704  0.788429  0.369946   \n",
       "2  5 days  1.498110e+12  1.223973e+06  740668.116543  0.676180  0.420328   \n",
       "3  6 days  3.061828e+12  1.749808e+06  894436.471969  0.697424  0.420328   \n",
       "4  7 days  3.254323e+12  1.803974e+06  941452.322089  0.714643  0.465481   \n",
       "\n",
       "      smape  coverage  \n",
       "0  0.478580  0.696970  \n",
       "1  0.493505  0.712121  \n",
       "2  0.521004  0.696970  \n",
       "3  0.552882  0.681818  \n",
       "4  0.600131  0.651515  "
      ]
     },
     "execution_count": 121,
     "metadata": {},
     "output_type": "execute_result"
    }
   ],
   "source": [
    "from prophet.diagnostics import performance_metrics\n",
    "df_p = performance_metrics(df_cv)\n",
    "df_p.head()"
   ]
  },
  {
   "cell_type": "code",
   "execution_count": 127,
   "metadata": {},
   "outputs": [
    {
     "data": {
      "text/plain": [
       "2138813135546.1262"
      ]
     },
     "execution_count": 127,
     "metadata": {},
     "output_type": "execute_result"
    }
   ],
   "source": [
    "df_p.mse.mean()"
   ]
  },
  {
   "cell_type": "code",
   "execution_count": 128,
   "metadata": {},
   "outputs": [
    {
     "data": {
      "text/plain": [
       "0.9222629001708447"
      ]
     },
     "execution_count": 128,
     "metadata": {},
     "output_type": "execute_result"
    }
   ],
   "source": [
    "df_p.mape.mean()"
   ]
  },
  {
   "cell_type": "code",
   "execution_count": 123,
   "metadata": {},
   "outputs": [],
   "source": [
    "from prophet.plot import plot_cross_validation_metric"
   ]
  },
  {
   "cell_type": "code",
   "execution_count": 124,
   "metadata": {},
   "outputs": [
    {
     "data": {
      "image/png": "[encoded data removed]",
      "text/plain": [
       "<Figure size 720x432 with 1 Axes>"
      ]
     },
     "metadata": {},
     "output_type": "display_data"
    }
   ],
   "source": [
    "fig = plot_cross_validation_metric(df_cv, metric='mse')"
   ]
  },
  {
   "cell_type": "code",
   "execution_count": 125,
   "metadata": {},
   "outputs": [
    {
     "data": {
      "image/png": "[encoded data removed]",
      "text/plain": [
       "<Figure size 720x432 with 1 Axes>"
      ]
     },
     "metadata": {},
     "output_type": "display_data"
    }
   ],
   "source": [
    "fig = plot_cross_validation_metric(df_cv, metric='mae')"
   ]
  },
  {
   "cell_type": "code",
   "execution_count": 129,
   "metadata": {},
   "outputs": [
    {
     "data": {
      "image/png": "[encoded data removed]",
      "text/plain": [
       "<Figure size 720x432 with 1 Axes>"
      ]
     },
     "metadata": {},
     "output_type": "display_data"
    }
   ],
   "source": [
    "fig = plot_cross_validation_metric(df_cv, metric='mape')"
   ]
  },
  {
   "cell_type": "code",
   "execution_count": null,
   "metadata": {},
   "outputs": [],
   "source": []
  },
  {
   "cell_type": "code",
   "execution_count": null,
   "metadata": {},
   "outputs": [],
   "source": []
  },
  {
   "cell_type": "code",
   "execution_count": null,
   "metadata": {},
   "outputs": [],
   "source": []
  },
  {
   "cell_type": "markdown",
   "metadata": {},
   "source": [
    "### comparando com base line"
   ]
  },
  {
   "cell_type": "code",
   "execution_count": null,
   "metadata": {},
   "outputs": [],
   "source": []
  },
  {
   "cell_type": "markdown",
   "metadata": {},
   "source": [
    "# Fazer para transações e usuarios"
   ]
  },
  {
   "cell_type": "markdown",
   "metadata": {},
   "source": [
    "# realizar o dashboard"
   ]
  },
  {
   "cell_type": "markdown",
   "metadata": {},
   "source": []
  }
 ],
 "metadata": {
  "kernelspec": {
   "display_name": "Python 3.9.7 ('base')",
   "language": "python",
   "name": "python3"
  },
  "language_info": {
   "codemirror_mode": {
    "name": "ipython",
    "version": 3
   },
   "file_extension": ".py",
   "mimetype": "text/x-python",
   "name": "python",
   "nbconvert_exporter": "python",
   "pygments_lexer": "ipython3",
   "version": "3.9.7"
  },
  "orig_nbformat": 4,
  "vscode": {
   "interpreter": {
    "hash": "d674aba619e9128d5d95f68874c090de0e48b8e67c1ba838c5d294b8a6cf0663"
   }
  }
 },
 "nbformat": 4,
 "nbformat_minor": 2
}
